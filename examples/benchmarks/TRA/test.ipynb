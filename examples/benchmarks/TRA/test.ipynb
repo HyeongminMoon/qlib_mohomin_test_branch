{
 "cells": [
  {
   "cell_type": "code",
   "execution_count": 1,
   "id": "5b412531-c672-4e05-9e62-2fadea8797ca",
   "metadata": {},
   "outputs": [],
   "source": [
    "import argparse\n",
    "import qlib\n",
    "import ruamel.yaml as yaml\n",
    "from qlib.utils import init_instance_by_config\n",
    "import pandas as pd\n",
    "import torch\n",
    "from qlib.contrib.evaluate import (\n",
    "    backtest as normal_backtest,\n",
    "    risk_analysis,\n",
    ")"
   ]
  },
  {
   "cell_type": "code",
   "execution_count": 2,
   "id": "7a2b98d4-3742-4d1d-9e31-3a217116b520",
   "metadata": {
    "scrolled": true,
    "tags": []
   },
   "outputs": [
    {
     "name": "stderr",
     "output_type": "stream",
     "text": [
      "[2410:MainThread](2021-10-27 14:43:43,812) INFO - qlib.Initialization - [config.py:386] - default_conf: client.\n",
      "[2410:MainThread](2021-10-27 14:43:43,817) WARNING - qlib.Initialization - [config.py:411] - redis connection failed(host=127.0.0.1 port=6379), DiskExpressionCache and DiskDatasetCache will not be used!\n",
      "[2410:MainThread](2021-10-27 14:43:44,023) INFO - qlib.Initialization - [__init__.py:56] - qlib successfully initialized based on client settings.\n",
      "[2410:MainThread](2021-10-27 14:43:44,024) INFO - qlib.Initialization - [__init__.py:58] - data_path={'__DEFAULT_FREQ': PosixPath('/home/us_data')}\n"
     ]
    }
   ],
   "source": [
    "parser = argparse.ArgumentParser(allow_abbrev=False)\n",
    "parser.add_argument(\"--seed\", type=int, default=1000, help=\"random seed\")\n",
    "parser.add_argument(\"--config_file\", type=str, default=\"backtest.yaml\", help=\"config file\")\n",
    "parser.add_argument(\"-f\")\n",
    "args = parser.parse_args()\n",
    "\n",
    "\n",
    "seed = args.seed\n",
    "config_file = args.config_file\n",
    "\n",
    "# set random seed\n",
    "with open(config_file) as f:\n",
    "    config = yaml.safe_load(f)\n",
    "\n",
    "# seed_suffix = \"/seed1000\" if \"init\" in config_file else f\"/seed{seed}\"\n",
    "seed_suffix = \"\"\n",
    "config[\"task\"][\"model\"][\"kwargs\"].update(\n",
    "    {\"seed\": seed, \"logdir\": config[\"task\"][\"model\"][\"kwargs\"][\"logdir\"] + seed_suffix}\n",
    ")\n",
    "\n",
    "# initialize workflow\n",
    "qlib.init(\n",
    "    provider_uri=config[\"qlib_init\"][\"provider_uri\"],\n",
    "    region=config[\"qlib_init\"][\"region\"],\n",
    ")"
   ]
  },
  {
   "cell_type": "code",
   "execution_count": 3,
   "id": "b9d5119b-e8ca-4285-9a32-bbd4d892b91a",
   "metadata": {},
   "outputs": [
    {
     "name": "stderr",
     "output_type": "stream",
     "text": [
      "/usr/local/lib/python3.8/dist-packages/torch/cuda/__init__.py:52: UserWarning: CUDA initialization: Found no NVIDIA driver on your system. Please check that you have an NVIDIA GPU and installed a driver from http://www.nvidia.com/Download/index.aspx (Triggered internally at  /pytorch/c10/cuda/CUDAFunctions.cpp:100.)\n",
      "  return torch._C._cuda_getDeviceCount() > 0\n",
      "[2410:MainThread](2021-10-27 14:47:08,709) INFO - qlib.timer - [log.py:113] - Time cost: 202.509s | Loading data Done\n",
      "[2410:MainThread](2021-10-27 14:47:11,320) INFO - qlib.timer - [log.py:113] - Time cost: 2.248s | FilterCol Done\n",
      "/usr/local/lib/python3.8/dist-packages/pandas/core/frame.py:3065: SettingWithCopyWarning: \n",
      "A value is trying to be set on a copy of a slice from a DataFrame.\n",
      "Try using .loc[row_indexer,col_indexer] = value instead\n",
      "\n",
      "See the caveats in the documentation: https://pandas.pydata.org/pandas-docs/stable/user_guide/indexing.html#returning-a-view-versus-a-copy\n",
      "  self[k1] = value[k2]\n",
      "/usr/local/lib/python3.8/dist-packages/pandas/core/generic.py:7349: SettingWithCopyWarning: \n",
      "A value is trying to be set on a copy of a slice from a DataFrame\n",
      "\n",
      "See the caveats in the documentation: https://pandas.pydata.org/pandas-docs/stable/user_guide/indexing.html#returning-a-view-versus-a-copy\n",
      "  return self._clip_with_scalar(lower, upper, inplace=inplace)\n",
      "[2410:MainThread](2021-10-27 14:47:16,274) INFO - qlib.timer - [log.py:113] - Time cost: 4.953s | RobustZScoreNorm Done\n",
      "[2410:MainThread](2021-10-27 14:47:16,316) INFO - qlib.timer - [log.py:113] - Time cost: 0.040s | Fillna Done\n",
      "[2410:MainThread](2021-10-27 14:47:17,322) INFO - qlib.timer - [log.py:113] - Time cost: 0.951s | CSRankNorm Done\n",
      "[2410:MainThread](2021-10-27 14:47:17,324) INFO - qlib.timer - [log.py:113] - Time cost: 8.613s | fit & process data Done\n",
      "[2410:MainThread](2021-10-27 14:47:17,325) INFO - qlib.timer - [log.py:113] - Time cost: 211.126s | Init data Done\n"
     ]
    }
   ],
   "source": [
    "latest_dataset = init_instance_by_config(config[\"task\"][\"dataset\"])"
   ]
  },
  {
   "cell_type": "code",
   "execution_count": 4,
   "id": "d86f0448-49e7-4688-b577-9a4585442179",
   "metadata": {},
   "outputs": [
    {
     "name": "stdout",
     "output_type": "stream",
     "text": [
      "Please install necessary libs for CatBoostModel.\n",
      "Please install necessary libs for XGBModel, such as xgboost.\n"
     ]
    },
    {
     "name": "stderr",
     "output_type": "stream",
     "text": [
      "[2410:MainThread](2021-10-27 14:47:28,598) WARNING - qlib.TRA - [pytorch_tra.py:100] - `eval_train` will be ignored when using TRA.router\n",
      "[2410:MainThread](2021-10-27 14:47:28,601) WARNING - qlib.TRA - [pytorch_tra.py:132] - logdir output/us_158_nassp_epoch100 is not empty\n",
      "[2410:MainThread](2021-10-27 14:47:28,603) INFO - qlib.TRA - [pytorch_tra.py:141] - init TRAModel...\n",
      "[2410:MainThread](2021-10-27 14:47:28,611) INFO - qlib.TRA - [pytorch_tra.py:171] - # model params: 59520\n",
      "[2410:MainThread](2021-10-27 14:47:28,613) INFO - qlib.TRA - [pytorch_tra.py:172] - # tra params: 5606\n"
     ]
    },
    {
     "name": "stdout",
     "output_type": "stream",
     "text": [
      "RNN(\n",
      "  (rnn): LSTM(20, 64, num_layers=2, batch_first=True)\n",
      "  (W): Linear(in_features=64, out_features=64, bias=True)\n",
      "  (u): Linear(in_features=64, out_features=1, bias=False)\n",
      ")\n",
      "TRA(\n",
      "  (predictors): Linear(in_features=128, out_features=3, bias=True)\n",
      "  (router): LSTM(3, 32, batch_first=True)\n",
      "  (fc): Linear(in_features=160, out_features=3, bias=True)\n",
      ")\n"
     ]
    }
   ],
   "source": [
    "model = init_instance_by_config(config[\"task\"][\"model\"])"
   ]
  },
  {
   "cell_type": "code",
   "execution_count": 119,
   "id": "a2b604d1-ba38-4392-97cf-4383ce4e5e74",
   "metadata": {},
   "outputs": [],
   "source": [
    "state_dict = torch.load(\"/home/qlib_test/examples/benchmarks/TRA/output/nasdaq/model.bin\", map_location=\"cpu\")[\"model\"]"
   ]
  },
  {
   "cell_type": "code",
   "execution_count": 120,
   "id": "2e0e936a-358c-438b-85f5-f94ef25ca172",
   "metadata": {},
   "outputs": [
    {
     "data": {
      "text/plain": [
       "<All keys matched successfully>"
      ]
     },
     "execution_count": 120,
     "metadata": {},
     "output_type": "execute_result"
    }
   ],
   "source": [
    "model.model.load_state_dict(state_dict)"
   ]
  },
  {
   "cell_type": "code",
   "execution_count": 121,
   "id": "f7f25b9a-2357-4130-8109-520fa93ecfcb",
   "metadata": {},
   "outputs": [],
   "source": [
    "model.fitted = True"
   ]
  },
  {
   "cell_type": "code",
   "execution_count": null,
   "id": "25a3d41c-d31d-4d58-bdcf-f41b37d93e79",
   "metadata": {},
   "outputs": [
    {
     "name": "stderr",
     "output_type": "stream",
     "text": [
      "  2%|█                                                     | 28/1405 [00:22<15:33,  1.47it/s]"
     ]
    }
   ],
   "source": [
    "pred = model.predict(latest_dataset)"
   ]
  },
  {
   "cell_type": "code",
   "execution_count": null,
   "id": "102eafd5-ac11-4871-bbea-c85e49273ce7",
   "metadata": {},
   "outputs": [],
   "source": [
    "import qlib\n",
    "from qlib.data import D\n",
    "qlib.init(provider_uri=\"/home/us_data\", region=\"us\")\n",
    "\n",
    "df = D.features(D.instruments(\"nassp\"), [\"$open\"], freq=\"day\")\n",
    "\n",
    "past_data = df.reset_index('instrument')"
   ]
  },
  {
   "cell_type": "code",
   "execution_count": null,
   "id": "4f18aba3-c7f8-4f53-b599-2ff8e51fd127",
   "metadata": {},
   "outputs": [],
   "source": [
    "reset_df = pred.reset_index('instrument')"
   ]
  },
  {
   "cell_type": "code",
   "execution_count": null,
   "id": "1c0d7a47-4e3f-4feb-8724-c5f755f43ae4",
   "metadata": {
    "scrolled": true,
    "tags": []
   },
   "outputs": [],
   "source": [
    "from IPython.display import clear_output\n",
    "import numpy as np\n",
    "import os\n",
    "import time\n",
    "\n",
    "indexs = reset_df.index.drop_duplicates()\n",
    "cnt = 0 \n",
    "\n",
    "money = 100\n",
    "current_buying = {}\n",
    "top_k = 5\n",
    "max_buying = 50\n",
    "num_buy = 0\n",
    "# num_sell = 0\n",
    "my_stack = None\n",
    "\n",
    "profit = 0.0\n",
    "\n",
    "data_dir = '/home/us_data_source/'\n",
    "for idx in indexs:\n",
    "    cnt+=1\n",
    "    \n",
    "    # if cnt < 800: continue\n",
    "    # today_inform = pd.read_csv(results_dir + str(idx) +'.csv')\n",
    "    # print(today_inform)\n",
    "    if type(reset_df.loc[idx]['score']) is np.float32:\n",
    "        stack = reset_df.loc[idx]\n",
    "    else:\n",
    "        stack = reset_df.loc[idx].sort_values(by='score' , ascending=True)\n",
    "        \n",
    "    # st = time.time()\n",
    "    current_buying_list = list(current_buying.keys())\n",
    "    for cur_stock in current_buying_list:\n",
    "        cur_stock_inform = past_data[past_data['instrument'] == cur_stock]\n",
    "        today_stock_price = cur_stock_inform.loc[str(idx).split(' ')[0]]['$open'].round(6)\n",
    "        # if today_stock_price is np.nan:\n",
    "        # print(np.isnan(today_stock_price))\n",
    "        # else:\n",
    "        current_buying[cur_stock][2] = today_stock_price\n",
    "    \n",
    "    # print(\"2\", time.time() - st)\n",
    "    \n",
    "    my_stack = stack[stack['instrument'].isin(current_buying_list)]\n",
    "    my_stack = my_stack.sort_values(by='score' , ascending=True)\n",
    "    my_stack_list = list(my_stack['instrument'])\n",
    "    # print(my_stack_list)\n",
    "    # print(my_stack)\n",
    "    for x in stack['instrument'][:top_k]:\n",
    "        # print(x)\n",
    "        if num_buy >= max_buying:\n",
    "            last_stock = my_stack_list[-1]\n",
    "            num_last_stock = current_buying[last_stock][0]\n",
    "            \n",
    "            num_buy -= 1\n",
    "            # print(current_buying[last_stock])\n",
    "            start, end = current_buying[last_stock][1:]\n",
    "            if not (np.isnan(start) or np.isnan(end)):\n",
    "                earn = (end - start) / start * money * 0.1\n",
    "                money += earn\n",
    "            \n",
    "            if num_last_stock == 1:\n",
    "                del current_buying[last_stock]\n",
    "                my_stack_list = my_stack_list[:-1]\n",
    "            else:\n",
    "                current_buying[last_stock][0] -= 1\n",
    "            \n",
    "            # num_sell += 1\n",
    "        if x not in current_buying:\n",
    "            cur_stock = x\n",
    "            cur_stock_inform = past_data[past_data['instrument'] == cur_stock]\n",
    "            today_stock_price = cur_stock_inform.loc[str(idx).split(' ')[0]]['$open'].round(6)\n",
    "            current_buying[x] = [1, today_stock_price, today_stock_price] #num, start_price, current_price\n",
    "            num_buy +=1\n",
    "        else:\n",
    "            current_buying[x][0] += 1\n",
    "            num_buy +=1\n",
    "        # print(num_buy, current_buying)\n",
    "        # input()\n",
    "    \n",
    "    # today_profit = 1\n",
    "    # for cur in current_buying.values():\n",
    "    #     num, start, end = cur\n",
    "    #     profit = (end/start)**num\n",
    "    #     today_profit *= profit\n",
    "    # today_profit = today_profit**(1/num_buy)\n",
    "    \n",
    "    # if not np.isnan(today_profit):\n",
    "    #     total_profit *= today_profit\n",
    "    # total_profit = total_profit**(1/cnt)\n",
    "    print(\"---------------------------------\")\n",
    "    print(\"day \", cnt, idx)\n",
    "    print(num_buy, current_buying)\n",
    "    # print(\"today_profit: \", today_profit)\n",
    "    # print(\"total_profit: \", total_profit)\n",
    "    print(\"current money: \", money)\n",
    "    # print(\"------------------\")\n",
    "    # print(current_buying)\n",
    "    # input()\n",
    "    # clear_output()"
   ]
  },
  {
   "cell_type": "code",
   "execution_count": null,
   "id": "e2072758-8c93-4b05-bc8a-dd0cdc0566ce",
   "metadata": {},
   "outputs": [],
   "source": []
  }
 ],
 "metadata": {
  "kernelspec": {
   "display_name": "Python 3 (ipykernel)",
   "language": "python",
   "name": "python3"
  },
  "language_info": {
   "codemirror_mode": {
    "name": "ipython",
    "version": 3
   },
   "file_extension": ".py",
   "mimetype": "text/x-python",
   "name": "python",
   "nbconvert_exporter": "python",
   "pygments_lexer": "ipython3",
   "version": "3.8.10"
  }
 },
 "nbformat": 4,
 "nbformat_minor": 5
}
