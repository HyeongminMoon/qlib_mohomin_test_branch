{
 "cells": [
  {
   "cell_type": "code",
   "execution_count": 18,
   "id": "5b412531-c672-4e05-9e62-2fadea8797ca",
   "metadata": {},
   "outputs": [],
   "source": [
    "import argparse\n",
    "import qlib\n",
    "import ruamel.yaml as yaml\n",
    "from qlib.utils import init_instance_by_config\n",
    "import pandas as pd\n",
    "import torch\n",
    "from qlib.contrib.evaluate import (\n",
    "    backtest as normal_backtest,\n",
    "    risk_analysis,\n",
    ")"
   ]
  },
  {
   "cell_type": "code",
   "execution_count": 2,
   "id": "7a2b98d4-3742-4d1d-9e31-3a217116b520",
   "metadata": {
    "scrolled": true,
    "tags": []
   },
   "outputs": [
    {
     "name": "stderr",
     "output_type": "stream",
     "text": [
      "[1461:MainThread](2021-10-22 22:33:35,478) INFO - qlib.Initialization - [config.py:386] - default_conf: client.\n",
      "[1461:MainThread](2021-10-22 22:33:35,481) WARNING - qlib.Initialization - [config.py:411] - redis connection failed(host=127.0.0.1 port=6379), DiskExpressionCache and DiskDatasetCache will not be used!\n",
      "[1461:MainThread](2021-10-22 22:33:35,830) INFO - qlib.Initialization - [__init__.py:56] - qlib successfully initialized based on client settings.\n",
      "[1461:MainThread](2021-10-22 22:33:35,832) INFO - qlib.Initialization - [__init__.py:58] - data_path={'__DEFAULT_FREQ': PosixPath('/home/us_data_dump')}\n"
     ]
    }
   ],
   "source": [
    "parser = argparse.ArgumentParser(allow_abbrev=False)\n",
    "parser.add_argument(\"--seed\", type=int, default=1000, help=\"random seed\")\n",
    "parser.add_argument(\"--config_file\", type=str, default=\"us158_nassp_epoch100.yaml\", help=\"config file\")\n",
    "parser.add_argument(\"-f\")\n",
    "args = parser.parse_args()\n",
    "\n",
    "\n",
    "seed = args.seed\n",
    "config_file = args.config_file\n",
    "\n",
    "# set random seed\n",
    "with open(config_file) as f:\n",
    "    config = yaml.safe_load(f)\n",
    "\n",
    "# seed_suffix = \"/seed1000\" if \"init\" in config_file else f\"/seed{seed}\"\n",
    "seed_suffix = \"\"\n",
    "config[\"task\"][\"model\"][\"kwargs\"].update(\n",
    "    {\"seed\": seed, \"logdir\": config[\"task\"][\"model\"][\"kwargs\"][\"logdir\"] + seed_suffix}\n",
    ")\n",
    "\n",
    "# initialize workflow\n",
    "qlib.init(\n",
    "    provider_uri=config[\"qlib_init\"][\"provider_uri\"],\n",
    "    region=config[\"qlib_init\"][\"region\"],\n",
    ")"
   ]
  },
  {
   "cell_type": "code",
   "execution_count": 3,
   "id": "b9d5119b-e8ca-4285-9a32-bbd4d892b91a",
   "metadata": {
    "tags": []
   },
   "outputs": [
    {
     "name": "stderr",
     "output_type": "stream",
     "text": [
      "/usr/local/lib/python3.8/dist-packages/torch/cuda/__init__.py:52: UserWarning: CUDA initialization: Found no NVIDIA driver on your system. Please check that you have an NVIDIA GPU and installed a driver from http://www.nvidia.com/Download/index.aspx (Triggered internally at  /pytorch/c10/cuda/CUDAFunctions.cpp:100.)\n",
      "  return torch._C._cuda_getDeviceCount() > 0\n",
      "[1461:MainThread](2021-10-22 22:36:05,993) INFO - qlib.timer - [log.py:113] - Time cost: 147.968s | Loading data Done\n",
      "[1461:MainThread](2021-10-22 22:36:06,012) INFO - qlib.timer - [log.py:113] - Time cost: 0.010s | FilterCol Done\n",
      "/usr/local/lib/python3.8/dist-packages/pandas/core/frame.py:3065: SettingWithCopyWarning: \n",
      "A value is trying to be set on a copy of a slice from a DataFrame.\n",
      "Try using .loc[row_indexer,col_indexer] = value instead\n",
      "\n",
      "See the caveats in the documentation: https://pandas.pydata.org/pandas-docs/stable/user_guide/indexing.html#returning-a-view-versus-a-copy\n",
      "  self[k1] = value[k2]\n",
      "/usr/local/lib/python3.8/dist-packages/pandas/core/generic.py:7349: SettingWithCopyWarning: \n",
      "A value is trying to be set on a copy of a slice from a DataFrame\n",
      "\n",
      "See the caveats in the documentation: https://pandas.pydata.org/pandas-docs/stable/user_guide/indexing.html#returning-a-view-versus-a-copy\n",
      "  return self._clip_with_scalar(lower, upper, inplace=inplace)\n",
      "[1461:MainThread](2021-10-22 22:36:06,085) INFO - qlib.timer - [log.py:113] - Time cost: 0.072s | RobustZScoreNorm Done\n",
      "[1461:MainThread](2021-10-22 22:36:06,096) INFO - qlib.timer - [log.py:113] - Time cost: 0.009s | Fillna Done\n",
      "[1461:MainThread](2021-10-22 22:36:06,112) INFO - qlib.timer - [log.py:113] - Time cost: 0.014s | CSRankNorm Done\n",
      "[1461:MainThread](2021-10-22 22:36:06,114) INFO - qlib.timer - [log.py:113] - Time cost: 0.115s | fit & process data Done\n",
      "[1461:MainThread](2021-10-22 22:36:06,116) INFO - qlib.timer - [log.py:113] - Time cost: 148.091s | Init data Done\n"
     ]
    }
   ],
   "source": [
    "latest_dataset = init_instance_by_config(config[\"task\"][\"dataset\"])"
   ]
  },
  {
   "cell_type": "code",
   "execution_count": 4,
   "id": "d86f0448-49e7-4688-b577-9a4585442179",
   "metadata": {},
   "outputs": [
    {
     "name": "stdout",
     "output_type": "stream",
     "text": [
      "Please install necessary libs for CatBoostModel.\n",
      "Please install necessary libs for XGBModel, such as xgboost.\n"
     ]
    },
    {
     "name": "stderr",
     "output_type": "stream",
     "text": [
      "[1461:MainThread](2021-10-22 22:36:06,857) WARNING - qlib.TRA - [pytorch_tra.py:100] - `eval_train` will be ignored when using TRA.router\n",
      "[1461:MainThread](2021-10-22 22:36:06,862) WARNING - qlib.TRA - [pytorch_tra.py:132] - logdir output/us_158_nassp_epoch100 is not empty\n",
      "[1461:MainThread](2021-10-22 22:36:06,864) INFO - qlib.TRA - [pytorch_tra.py:141] - init TRAModel...\n",
      "[1461:MainThread](2021-10-22 22:36:06,873) INFO - qlib.TRA - [pytorch_tra.py:171] - # model params: 59520\n",
      "[1461:MainThread](2021-10-22 22:36:06,875) INFO - qlib.TRA - [pytorch_tra.py:172] - # tra params: 5606\n"
     ]
    },
    {
     "name": "stdout",
     "output_type": "stream",
     "text": [
      "RNN(\n",
      "  (rnn): LSTM(20, 64, num_layers=2, batch_first=True)\n",
      "  (W): Linear(in_features=64, out_features=64, bias=True)\n",
      "  (u): Linear(in_features=64, out_features=1, bias=False)\n",
      ")\n",
      "TRA(\n",
      "  (predictors): Linear(in_features=128, out_features=3, bias=True)\n",
      "  (router): LSTM(3, 32, batch_first=True)\n",
      "  (fc): Linear(in_features=160, out_features=3, bias=True)\n",
      ")\n"
     ]
    }
   ],
   "source": [
    "model = init_instance_by_config(config[\"task\"][\"model\"])"
   ]
  },
  {
   "cell_type": "code",
   "execution_count": 5,
   "id": "a2b604d1-ba38-4392-97cf-4383ce4e5e74",
   "metadata": {},
   "outputs": [],
   "source": [
    "state_dict = torch.load(\"/home/qlib_test/examples/benchmarks/TRA/output/us_158_nassp_epoch100/model.bin\", map_location=\"cpu\")[\"model\"]"
   ]
  },
  {
   "cell_type": "code",
   "execution_count": 6,
   "id": "2e0e936a-358c-438b-85f5-f94ef25ca172",
   "metadata": {},
   "outputs": [
    {
     "data": {
      "text/plain": [
       "<All keys matched successfully>"
      ]
     },
     "execution_count": 6,
     "metadata": {},
     "output_type": "execute_result"
    }
   ],
   "source": [
    "model.model.load_state_dict(state_dict)"
   ]
  },
  {
   "cell_type": "code",
   "execution_count": 7,
   "id": "f7f25b9a-2357-4130-8109-520fa93ecfcb",
   "metadata": {},
   "outputs": [],
   "source": [
    "model.fitted = True"
   ]
  },
  {
   "cell_type": "code",
   "execution_count": 8,
   "id": "82ca5e41-9f54-4c44-b639-489bb770aab3",
   "metadata": {},
   "outputs": [
    {
     "name": "stderr",
     "output_type": "stream",
     "text": [
      "100%|██████████████████████████████████████████████████████████| 9/9 [00:01<00:00,  4.57it/s]\n",
      "[1461:MainThread](2021-10-22 22:36:08,908) INFO - qlib.TRA - [pytorch_tra.py:516] - test metrics: {'MSE': 0.16148672135989006, 'MAE': 0.3268642527234289, 'IC': 0.03107587425170133, 'ICIR': 0.3446436265046043}\n"
     ]
    }
   ],
   "source": [
    "pred = model.predict(latest_dataset)"
   ]
  },
  {
   "cell_type": "code",
   "execution_count": 9,
   "id": "16de0cfd-50bb-4bd8-a1c9-99712a356c73",
   "metadata": {},
   "outputs": [],
   "source": [
    "latest_dataset.to_pickle(path=\"/home/us_dataset_158_100.pkl\")"
   ]
  },
  {
   "cell_type": "code",
   "execution_count": 10,
   "id": "fab9e126-fa02-4e1e-9cb1-74072f1fba93",
   "metadata": {},
   "outputs": [],
   "source": [
    "# pred"
   ]
  },
  {
   "cell_type": "code",
   "execution_count": 11,
   "id": "53ba7d51-da7a-41db-9a08-1cc80420a18f",
   "metadata": {},
   "outputs": [],
   "source": [
    "reset_df = pred.reset_index('instrument')\n",
    "# reset_df"
   ]
  },
  {
   "cell_type": "code",
   "execution_count": null,
   "id": "22f4b693-1bc2-4382-bcca-03aa6223e7fc",
   "metadata": {
    "tags": []
   },
   "outputs": [
    {
     "name": "stdout",
     "output_type": "stream",
     "text": [
      "2021-10-14 00:00:00\n",
      "           instrument     score     label   score_0   score_1   score_2\n",
      "datetime                                                               \n",
      "2021-10-14          F  0.004292 -0.990971  0.004292  0.035539 -0.088454\n",
      "2021-10-14         TT  0.002934  1.024563  0.002934  0.075027 -0.048994\n",
      "2021-10-14       QRVO  0.002173 -0.393029  0.002173  0.038900 -0.002352\n",
      "2021-10-14        LVS  0.000951 -0.131010 -0.064583  0.030384  0.000951\n",
      "2021-10-14       TMUS -0.000442 -0.137728 -0.000442  0.045724 -0.022648\n",
      "...               ...       ...       ...       ...       ...       ...\n",
      "2021-10-14        EOG -0.156457 -0.399748 -0.034076  0.102862 -0.156457\n",
      "2021-10-14       COST -0.159157  1.488136 -0.099991  0.026641 -0.159157\n",
      "2021-10-14      LBTYK -0.164998 -0.231786 -0.100350  0.117584 -0.164998\n",
      "2021-10-14        PKG -0.173573  0.453495 -0.096019  0.105571 -0.173573\n",
      "2021-10-14        MRO -0.183396  1.326893 -0.090361  0.081337 -0.183396\n",
      "\n",
      "[515 rows x 6 columns]\n",
      "['F', 'QRVO', 'LW', 'BMY', 'ROP']\n",
      "           instrument     score     label   score_0   score_1   score_2\n",
      "datetime                                                               \n",
      "2021-10-14          F  0.004292 -0.990971  0.004292  0.035539 -0.088454\n",
      "2021-10-14       QRVO  0.002173 -0.393029  0.002173  0.038900 -0.002352\n",
      "2021-10-14         LW -0.010120 -1.300019 -0.010120  0.126450 -0.120471\n",
      "2021-10-14        BMY -0.012310 -1.669534  0.017851  0.057845 -0.012310\n",
      "2021-10-14        ROP -0.017975  0.466932 -0.017975  0.055546 -0.053718\n",
      "F\n",
      "10 {'QRVO': [3, 165.15, 162.5], 'BMY': [2, 57.32, 57.07], 'ROP': [1, 453.6, 459.21], 'F': [3, 15.11, 15.62], 'LW': [1, 55.8, 56.28]}\n"
     ]
    },
    {
     "name": "stdin",
     "output_type": "stream",
     "text": [
      " \n"
     ]
    },
    {
     "name": "stdout",
     "output_type": "stream",
     "text": [
      "TT\n",
      "10 {'QRVO': [3, 165.15, 162.5], 'BMY': [2, 57.32, 57.07], 'F': [3, 15.11, 15.62], 'LW': [1, 55.8, 56.28], 'TT': [1, 172.05, 172.05]}\n"
     ]
    },
    {
     "name": "stdin",
     "output_type": "stream",
     "text": [
      " \n"
     ]
    },
    {
     "name": "stdout",
     "output_type": "stream",
     "text": [
      "QRVO\n",
      "10 {'QRVO': [4, 165.15, 162.5], 'BMY': [1, 57.32, 57.07], 'F': [3, 15.11, 15.62], 'LW': [1, 55.8, 56.28], 'TT': [1, 172.05, 172.05]}\n"
     ]
    },
    {
     "name": "stdin",
     "output_type": "stream",
     "text": [
      " \n"
     ]
    },
    {
     "name": "stdout",
     "output_type": "stream",
     "text": [
      "LVS\n",
      "10 {'QRVO': [4, 165.15, 162.5], 'F': [3, 15.11, 15.62], 'LW': [1, 55.8, 56.28], 'TT': [1, 172.05, 172.05], 'LVS': [1, 40.57, 40.57]}\n"
     ]
    },
    {
     "name": "stdin",
     "output_type": "stream",
     "text": [
      " \n"
     ]
    },
    {
     "name": "stdout",
     "output_type": "stream",
     "text": [
      "TMUS\n",
      "10 {'QRVO': [4, 165.15, 162.5], 'F': [3, 15.11, 15.62], 'TT': [1, 172.05, 172.05], 'LVS': [1, 40.57, 40.57], 'TMUS': [1, 118.09, 118.09]}\n"
     ]
    },
    {
     "name": "stdin",
     "output_type": "stream",
     "text": [
      " \n"
     ]
    },
    {
     "name": "stdout",
     "output_type": "stream",
     "text": [
      "10 {'QRVO': [4, 165.15, 162.5], 'F': [3, 15.11, 15.62], 'TT': [1, 172.05, 172.05], 'LVS': [1, 40.57, 40.57], 'TMUS': [1, 118.09, 118.09]}\n"
     ]
    }
   ],
   "source": [
    "from IPython.display import clear_output\n",
    "import numpy as np\n",
    "import os\n",
    "indexs = reset_df.index.drop_duplicates()\n",
    "cnt = 0 \n",
    "\n",
    "save_dir = '/home/results_158_100/'\n",
    "if not os.path.isdir(save_dir):\n",
    "    os.mkdir(save_dir)\n",
    "\n",
    "current_buying = {}\n",
    "top_k = 5\n",
    "max_buying = 10\n",
    "num_buy = 0\n",
    "my_stack = None\n",
    "\n",
    "data_dir = '/home/us_data_source/'\n",
    "for idx in indexs:\n",
    "    # cnt+=1\n",
    "    # if cnt < 800: continue\n",
    "    print(idx)\n",
    "    # today_inform = pd.read_csv(results_dir + str(idx) +'.csv')\n",
    "    # print(today_inform)\n",
    "    if type(reset_df.loc[idx]['score']) is np.float32:\n",
    "        stack = reset_df.loc[idx]\n",
    "    else:\n",
    "        stack = reset_df.loc[idx].sort_values(by='score' , ascending=False)\n",
    "    print(stack)\n",
    "    \n",
    "    current_buying_list = list(current_buying.keys())\n",
    "    for cur_stock in current_buying_list:\n",
    "        cur_stock_inform = pd.read_csv(data_dir + cur_stock + '.csv')\n",
    "        today_inform = cur_stock_inform[cur_stock_inform['date'] == str(idx).split(' ')[0]]\n",
    "        today_stock_price = float(today_inform['open'].round(2))\n",
    "        current_buying[cur_stock][2] = today_stock_price\n",
    "\n",
    "    my_stack = stack[stack['instrument'].isin(current_buying_list)]\n",
    "    my_stack = my_stack.sort_values(by='score' , ascending=False)\n",
    "    my_stack_list = list(my_stack['instrument'])\n",
    "    print(my_stack_list)\n",
    "    print(my_stack)\n",
    "    \n",
    "    for x in stack['instrument'][:top_k]:\n",
    "        print(x)\n",
    "        if num_buy >= max_buying:\n",
    "            last_stock = my_stack_list[-1]\n",
    "            num_last_stock = current_buying[last_stock][0]\n",
    "            if num_last_stock == 1:\n",
    "                del current_buying[last_stock]\n",
    "                my_stack_list = my_stack_list[:-1]\n",
    "                num_buy -= 1\n",
    "            else:\n",
    "                current_buying[last_stock][0] -= 1\n",
    "                num_buy -= 1\n",
    "        if x not in current_buying:\n",
    "            cur_stock = x\n",
    "            cur_stock_inform = pd.read_csv(data_dir + cur_stock + '.csv')\n",
    "            today_inform = cur_stock_inform[cur_stock_inform['date'] == str(idx).split(' ')[0]]\n",
    "            today_stock_price = float(today_inform['open'].round(2))\n",
    "            current_buying[x] = [1, today_stock_price, today_stock_price] #num, start_price, current_price\n",
    "            num_buy +=1\n",
    "        else:\n",
    "            current_buying[x][0] += 1\n",
    "            num_buy +=1\n",
    "        print(num_buy, current_buying)\n",
    "        input()\n",
    "        \n",
    "    print(num_buy, current_buying)\n",
    "    \n",
    "\n",
    "\n",
    "    # print(current_buying)\n",
    "    input()\n",
    "    clear_output()"
   ]
  },
  {
   "cell_type": "code",
   "execution_count": 83,
   "id": "ac504d47-3cdd-4bf8-a1fc-41b6037151ab",
   "metadata": {
    "tags": []
   },
   "outputs": [
    {
     "data": {
      "text/plain": [
       "{'QRVO': [3, 165.15, 159.37],\n",
       " 'BMY': [1, 57.32, 57.06],\n",
       " 'ROP': [1, 453.6, 453.16],\n",
       " 'ATVI': [1, 76.45, 75.34],\n",
       " 'F': [1, 15.11, 15.59]}"
      ]
     },
     "execution_count": 83,
     "metadata": {},
     "output_type": "execute_result"
    }
   ],
   "source": [
    "current_buying"
   ]
  },
  {
   "cell_type": "code",
   "execution_count": 45,
   "id": "e0c9d68e-95e3-472f-af5a-14acf4385785",
   "metadata": {
    "tags": []
   },
   "outputs": [],
   "source": [
    "current_buying['QRVO'] = 1"
   ]
  },
  {
   "cell_type": "code",
   "execution_count": 37,
   "id": "c1be2cbd-4795-40c0-b333-c661d3fb06dc",
   "metadata": {
    "tags": []
   },
   "outputs": [
    {
     "data": {
      "text/plain": [
       "{'ROP': 2, 'ATVI': 2, 'QRVO': 2, 'FCX': 2, 'F': 2}"
      ]
     },
     "execution_count": 37,
     "metadata": {},
     "output_type": "execute_result"
    }
   ],
   "source": [
    "temp_dict"
   ]
  },
  {
   "cell_type": "code",
   "execution_count": 14,
   "id": "1aa3252f-910e-4e62-ba9b-6ab84889b2db",
   "metadata": {},
   "outputs": [],
   "source": [
    "reset_df.to_pickle(path=\"/home/reset_df_158_100.pkl\")"
   ]
  },
  {
   "cell_type": "code",
   "execution_count": null,
   "id": "8468a750-ce16-443d-b52e-96477958262e",
   "metadata": {},
   "outputs": [],
   "source": []
  },
  {
   "cell_type": "code",
   "execution_count": 23,
   "id": "dfcb4838-871c-416c-9d21-297122122cb8",
   "metadata": {},
   "outputs": [
    {
     "data": {
      "text/html": [
       "<div>\n",
       "<style scoped>\n",
       "    .dataframe tbody tr th:only-of-type {\n",
       "        vertical-align: middle;\n",
       "    }\n",
       "\n",
       "    .dataframe tbody tr th {\n",
       "        vertical-align: top;\n",
       "    }\n",
       "\n",
       "    .dataframe thead th {\n",
       "        text-align: right;\n",
       "    }\n",
       "</style>\n",
       "<table border=\"1\" class=\"dataframe\">\n",
       "  <thead>\n",
       "    <tr style=\"text-align: right;\">\n",
       "      <th></th>\n",
       "      <th></th>\n",
       "      <th>score</th>\n",
       "      <th>label</th>\n",
       "      <th>score_0</th>\n",
       "      <th>score_1</th>\n",
       "      <th>score_2</th>\n",
       "    </tr>\n",
       "    <tr>\n",
       "      <th>datetime</th>\n",
       "      <th>instrument</th>\n",
       "      <th></th>\n",
       "      <th></th>\n",
       "      <th></th>\n",
       "      <th></th>\n",
       "      <th></th>\n",
       "    </tr>\n",
       "  </thead>\n",
       "  <tbody>\n",
       "    <tr>\n",
       "      <th rowspan=\"5\" valign=\"top\">2021-10-11</th>\n",
       "      <th>A</th>\n",
       "      <td>-0.059757</td>\n",
       "      <td>1.306738</td>\n",
       "      <td>-0.059757</td>\n",
       "      <td>0.000715</td>\n",
       "      <td>-0.072410</td>\n",
       "    </tr>\n",
       "    <tr>\n",
       "      <th>AAL</th>\n",
       "      <td>-0.098092</td>\n",
       "      <td>-1.689689</td>\n",
       "      <td>-0.098092</td>\n",
       "      <td>0.004654</td>\n",
       "      <td>-0.098579</td>\n",
       "    </tr>\n",
       "    <tr>\n",
       "      <th>AAP</th>\n",
       "      <td>-0.102055</td>\n",
       "      <td>-1.165650</td>\n",
       "      <td>-0.102055</td>\n",
       "      <td>0.066270</td>\n",
       "      <td>-0.122829</td>\n",
       "    </tr>\n",
       "    <tr>\n",
       "      <th>AAPL</th>\n",
       "      <td>-0.087577</td>\n",
       "      <td>-0.796136</td>\n",
       "      <td>-0.087577</td>\n",
       "      <td>0.004984</td>\n",
       "      <td>-0.106730</td>\n",
       "    </tr>\n",
       "    <tr>\n",
       "      <th>ABBV</th>\n",
       "      <td>-0.067606</td>\n",
       "      <td>-0.319126</td>\n",
       "      <td>-0.067606</td>\n",
       "      <td>0.010677</td>\n",
       "      <td>-0.089874</td>\n",
       "    </tr>\n",
       "    <tr>\n",
       "      <th>...</th>\n",
       "      <th>...</th>\n",
       "      <td>...</td>\n",
       "      <td>...</td>\n",
       "      <td>...</td>\n",
       "      <td>...</td>\n",
       "      <td>...</td>\n",
       "    </tr>\n",
       "    <tr>\n",
       "      <th rowspan=\"5\" valign=\"top\">2021-10-21</th>\n",
       "      <th>ZBH</th>\n",
       "      <td>-0.069378</td>\n",
       "      <td>NaN</td>\n",
       "      <td>-0.069378</td>\n",
       "      <td>0.003003</td>\n",
       "      <td>-0.130012</td>\n",
       "    </tr>\n",
       "    <tr>\n",
       "      <th>ZBRA</th>\n",
       "      <td>-0.058264</td>\n",
       "      <td>NaN</td>\n",
       "      <td>-0.058264</td>\n",
       "      <td>0.016758</td>\n",
       "      <td>-0.029283</td>\n",
       "    </tr>\n",
       "    <tr>\n",
       "      <th>ZION</th>\n",
       "      <td>-0.107694</td>\n",
       "      <td>NaN</td>\n",
       "      <td>-0.096385</td>\n",
       "      <td>0.043520</td>\n",
       "      <td>-0.107694</td>\n",
       "    </tr>\n",
       "    <tr>\n",
       "      <th>ZM</th>\n",
       "      <td>-0.013568</td>\n",
       "      <td>NaN</td>\n",
       "      <td>0.013776</td>\n",
       "      <td>0.072926</td>\n",
       "      <td>-0.013568</td>\n",
       "    </tr>\n",
       "    <tr>\n",
       "      <th>ZTS</th>\n",
       "      <td>-0.056932</td>\n",
       "      <td>NaN</td>\n",
       "      <td>-0.056932</td>\n",
       "      <td>0.050866</td>\n",
       "      <td>-0.090562</td>\n",
       "    </tr>\n",
       "  </tbody>\n",
       "</table>\n",
       "<p>4635 rows × 5 columns</p>\n",
       "</div>"
      ],
      "text/plain": [
       "                          score     label   score_0   score_1   score_2\n",
       "datetime   instrument                                                  \n",
       "2021-10-11 A          -0.059757  1.306738 -0.059757  0.000715 -0.072410\n",
       "           AAL        -0.098092 -1.689689 -0.098092  0.004654 -0.098579\n",
       "           AAP        -0.102055 -1.165650 -0.102055  0.066270 -0.122829\n",
       "           AAPL       -0.087577 -0.796136 -0.087577  0.004984 -0.106730\n",
       "           ABBV       -0.067606 -0.319126 -0.067606  0.010677 -0.089874\n",
       "...                         ...       ...       ...       ...       ...\n",
       "2021-10-21 ZBH        -0.069378       NaN -0.069378  0.003003 -0.130012\n",
       "           ZBRA       -0.058264       NaN -0.058264  0.016758 -0.029283\n",
       "           ZION       -0.107694       NaN -0.096385  0.043520 -0.107694\n",
       "           ZM         -0.013568       NaN  0.013776  0.072926 -0.013568\n",
       "           ZTS        -0.056932       NaN -0.056932  0.050866 -0.090562\n",
       "\n",
       "[4635 rows x 5 columns]"
      ]
     },
     "execution_count": 23,
     "metadata": {},
     "output_type": "execute_result"
    }
   ],
   "source": [
    "pred"
   ]
  },
  {
   "cell_type": "code",
   "execution_count": null,
   "id": "864dafcd-7d8d-4438-ac37-b5293a90e040",
   "metadata": {},
   "outputs": [],
   "source": [
    "# def backtest(\n",
    "#     start_time,\n",
    "#     end_time,\n",
    "#     strategy,\n",
    "#     executor,\n",
    "#     benchmark=\"SH000300\",\n",
    "#     account=1e9,\n",
    "#     exchange_kwargs={},\n",
    "#     pos_type: str = \"Position\",\n",
    "# ):"
   ]
  }
 ],
 "metadata": {
  "kernelspec": {
   "display_name": "Python 3 (ipykernel)",
   "language": "python",
   "name": "python3"
  },
  "language_info": {
   "codemirror_mode": {
    "name": "ipython",
    "version": 3
   },
   "file_extension": ".py",
   "mimetype": "text/x-python",
   "name": "python",
   "nbconvert_exporter": "python",
   "pygments_lexer": "ipython3",
   "version": "3.8.10"
  }
 },
 "nbformat": 4,
 "nbformat_minor": 5
}
