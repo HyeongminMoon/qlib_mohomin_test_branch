{
 "cells": [
  {
   "cell_type": "code",
   "execution_count": 1,
   "id": "5b412531-c672-4e05-9e62-2fadea8797ca",
   "metadata": {},
   "outputs": [],
   "source": [
    "import argparse\n",
    "import qlib\n",
    "import ruamel.yaml as yaml\n",
    "from qlib.utils import init_instance_by_config\n",
    "import pandas as pd\n",
    "import torch"
   ]
  },
  {
   "cell_type": "code",
   "execution_count": 2,
   "id": "7a2b98d4-3742-4d1d-9e31-3a217116b520",
   "metadata": {
    "scrolled": true,
    "tags": []
   },
   "outputs": [
    {
     "name": "stderr",
     "output_type": "stream",
     "text": [
      "[818:MainThread](2021-10-22 00:43:15,176) INFO - qlib.Initialization - [config.py:386] - default_conf: client.\n",
      "[818:MainThread](2021-10-22 00:43:15,179) WARNING - qlib.Initialization - [config.py:411] - redis connection failed(host=127.0.0.1 port=6379), DiskExpressionCache and DiskDatasetCache will not be used!\n",
      "[818:MainThread](2021-10-22 00:43:15,369) INFO - qlib.Initialization - [__init__.py:56] - qlib successfully initialized based on client settings.\n",
      "[818:MainThread](2021-10-22 00:43:15,370) INFO - qlib.Initialization - [__init__.py:58] - data_path={'__DEFAULT_FREQ': PosixPath('/home/us_data_dump')}\n"
     ]
    }
   ],
   "source": [
    "parser = argparse.ArgumentParser(allow_abbrev=False)\n",
    "parser.add_argument(\"--seed\", type=int, default=1000, help=\"random seed\")\n",
    "parser.add_argument(\"--config_file\", type=str, default=\"us360_nas.yaml\", help=\"config file\")\n",
    "parser.add_argument(\"-f\")\n",
    "args = parser.parse_args()\n",
    "\n",
    "\n",
    "seed = args.seed\n",
    "config_file = args.config_file\n",
    "\n",
    "# set random seed\n",
    "with open(config_file) as f:\n",
    "    config = yaml.safe_load(f)\n",
    "\n",
    "# seed_suffix = \"/seed1000\" if \"init\" in config_file else f\"/seed{seed}\"\n",
    "seed_suffix = \"\"\n",
    "config[\"task\"][\"model\"][\"kwargs\"].update(\n",
    "    {\"seed\": seed, \"logdir\": config[\"task\"][\"model\"][\"kwargs\"][\"logdir\"] + seed_suffix}\n",
    ")\n",
    "\n",
    "# initialize workflow\n",
    "qlib.init(\n",
    "    provider_uri=config[\"qlib_init\"][\"provider_uri\"],\n",
    "    region=config[\"qlib_init\"][\"region\"],\n",
    ")"
   ]
  },
  {
   "cell_type": "code",
   "execution_count": 3,
   "id": "b9d5119b-e8ca-4285-9a32-bbd4d892b91a",
   "metadata": {
    "tags": []
   },
   "outputs": [
    {
     "name": "stderr",
     "output_type": "stream",
     "text": [
      "/usr/local/lib/python3.8/dist-packages/torch/cuda/__init__.py:52: UserWarning: CUDA initialization: Found no NVIDIA driver on your system. Please check that you have an NVIDIA GPU and installed a driver from http://www.nvidia.com/Download/index.aspx (Triggered internally at  /pytorch/c10/cuda/CUDAFunctions.cpp:100.)\n",
      "  return torch._C._cuda_getDeviceCount() > 0\n",
      "[818:MainThread](2021-10-22 00:46:04,670) INFO - qlib.timer - [log.py:113] - Time cost: 169.283s | Loading data Done\n",
      "/usr/local/lib/python3.8/dist-packages/numpy/lib/nanfunctions.py:997: RuntimeWarning: All-NaN slice encountered\n",
      "  result = np.apply_along_axis(_nanmedian1d, axis, a, overwrite_input)\n",
      "[818:MainThread](2021-10-22 00:46:05,262) INFO - qlib.timer - [log.py:113] - Time cost: 0.587s | RobustZScoreNorm Done\n",
      "[818:MainThread](2021-10-22 00:46:05,354) INFO - qlib.timer - [log.py:113] - Time cost: 0.090s | Fillna Done\n",
      "[818:MainThread](2021-10-22 00:46:05,373) INFO - qlib.timer - [log.py:113] - Time cost: 0.015s | CSRankNorm Done\n",
      "[818:MainThread](2021-10-22 00:46:05,374) INFO - qlib.timer - [log.py:113] - Time cost: 0.702s | fit & process data Done\n",
      "[818:MainThread](2021-10-22 00:46:05,376) INFO - qlib.timer - [log.py:113] - Time cost: 169.989s | Init data Done\n",
      "/usr/local/lib/python3.8/dist-packages/qlib/contrib/data/dataset.py:174: UserWarning: the data has different shape from input_size and the data will be reshaped\n",
      "  warnings.warn(\"the data has different shape from input_size and the data will be reshaped\")\n"
     ]
    }
   ],
   "source": [
    "latest_dataset = init_instance_by_config(config[\"task\"][\"dataset\"])"
   ]
  },
  {
   "cell_type": "code",
   "execution_count": 4,
   "id": "d86f0448-49e7-4688-b577-9a4585442179",
   "metadata": {},
   "outputs": [
    {
     "name": "stdout",
     "output_type": "stream",
     "text": [
      "Please install necessary libs for CatBoostModel.\n",
      "Please install necessary libs for XGBModel, such as xgboost.\n"
     ]
    },
    {
     "name": "stderr",
     "output_type": "stream",
     "text": [
      "[818:MainThread](2021-10-22 00:46:06,102) WARNING - qlib.TRA - [pytorch_tra.py:100] - `eval_train` will be ignored when using TRA.router\n",
      "[818:MainThread](2021-10-22 00:46:06,109) WARNING - qlib.TRA - [pytorch_tra.py:132] - logdir output/basic_nasdaq is not empty\n",
      "[818:MainThread](2021-10-22 00:46:06,110) INFO - qlib.TRA - [pytorch_tra.py:141] - init TRAModel...\n",
      "[818:MainThread](2021-10-22 00:46:06,119) INFO - qlib.TRA - [pytorch_tra.py:171] - # model params: 55936\n",
      "[818:MainThread](2021-10-22 00:46:06,120) INFO - qlib.TRA - [pytorch_tra.py:172] - # tra params: 5606\n"
     ]
    },
    {
     "name": "stdout",
     "output_type": "stream",
     "text": [
      "RNN(\n",
      "  (rnn): LSTM(6, 64, num_layers=2, batch_first=True)\n",
      "  (W): Linear(in_features=64, out_features=64, bias=True)\n",
      "  (u): Linear(in_features=64, out_features=1, bias=False)\n",
      ")\n",
      "TRA(\n",
      "  (predictors): Linear(in_features=128, out_features=3, bias=True)\n",
      "  (router): LSTM(3, 32, batch_first=True)\n",
      "  (fc): Linear(in_features=160, out_features=3, bias=True)\n",
      ")\n"
     ]
    }
   ],
   "source": [
    "model = init_instance_by_config(config[\"task\"][\"model\"])"
   ]
  },
  {
   "cell_type": "code",
   "execution_count": 5,
   "id": "a2b604d1-ba38-4392-97cf-4383ce4e5e74",
   "metadata": {},
   "outputs": [],
   "source": [
    "state_dict = torch.load(\"/home/qlib_test/examples/benchmarks/TRA/output/basic_nasdaq/model.bin\", map_location=\"cpu\")[\"model\"]"
   ]
  },
  {
   "cell_type": "code",
   "execution_count": 6,
   "id": "2e0e936a-358c-438b-85f5-f94ef25ca172",
   "metadata": {},
   "outputs": [
    {
     "data": {
      "text/plain": [
       "<All keys matched successfully>"
      ]
     },
     "execution_count": 6,
     "metadata": {},
     "output_type": "execute_result"
    }
   ],
   "source": [
    "model.model.load_state_dict(state_dict)"
   ]
  },
  {
   "cell_type": "code",
   "execution_count": 7,
   "id": "f7f25b9a-2357-4130-8109-520fa93ecfcb",
   "metadata": {},
   "outputs": [],
   "source": [
    "model.fitted = True"
   ]
  },
  {
   "cell_type": "code",
   "execution_count": 8,
   "id": "82ca5e41-9f54-4c44-b639-489bb770aab3",
   "metadata": {},
   "outputs": [
    {
     "name": "stderr",
     "output_type": "stream",
     "text": [
      "100%|████████████████████████████████████████████████████████| 14/14 [00:01<00:00,  7.52it/s]\n",
      "[818:MainThread](2021-10-22 00:46:08,036) INFO - qlib.TRA - [pytorch_tra.py:516] - test metrics: {'MSE': 0.1672586483174663, 'MAE': 0.3318317780500833, 'IC': -0.0035558088367162962, 'ICIR': -0.04146635819306294}\n"
     ]
    }
   ],
   "source": [
    "pred = model.predict(latest_dataset)"
   ]
  },
  {
   "cell_type": "code",
   "execution_count": 9,
   "id": "16de0cfd-50bb-4bd8-a1c9-99712a356c73",
   "metadata": {},
   "outputs": [],
   "source": [
    "latest_dataset.to_pickle(path=\"/home/us_dataset_basic.pkl\")"
   ]
  },
  {
   "cell_type": "code",
   "execution_count": 10,
   "id": "fab9e126-fa02-4e1e-9cb1-74072f1fba93",
   "metadata": {},
   "outputs": [],
   "source": [
    "# pred"
   ]
  },
  {
   "cell_type": "code",
   "execution_count": 11,
   "id": "53ba7d51-da7a-41db-9a08-1cc80420a18f",
   "metadata": {},
   "outputs": [],
   "source": [
    "reset_df = pred.reset_index('instrument')\n",
    "# reset_df"
   ]
  },
  {
   "cell_type": "code",
   "execution_count": 12,
   "id": "5797e7d2-1416-4518-a9fe-e287bc16d6df",
   "metadata": {
    "scrolled": true,
    "tags": []
   },
   "outputs": [
    {
     "name": "stdout",
     "output_type": "stream",
     "text": [
      "2021-10-01 00:00:00\n",
      "           instrument     score     label   score_0   score_1   score_2\n",
      "datetime                                                               \n",
      "2021-10-01      LBTYK  0.200630  1.642660  0.200630 -0.043826  0.045602\n",
      "2021-10-01        CAG  0.199698 -0.124291  0.199698 -0.019648  0.058338\n",
      "2021-10-01         IR  0.197308  0.131010  0.197308 -0.016129  0.044707\n",
      "2021-10-01       NTES  0.196862  0.540835  0.196862 -0.021479  0.046701\n",
      "2021-10-01        PEG  0.196644 -1.199243  0.196644 -0.028511  0.059139\n",
      "...               ...       ...       ...       ...       ...       ...\n",
      "2021-10-01       NXPI -0.056637  0.681922  0.168374 -0.056637  0.065682\n",
      "2021-10-01       ILMN -0.057095  1.199243  0.163615 -0.057095  0.056225\n",
      "2021-10-01         JD -0.057848  1.609068  0.176583 -0.057848  0.046729\n",
      "2021-10-01       MRNA -0.064789  1.071592  0.163381 -0.064789  0.060057\n",
      "2021-10-01       EXPD -0.066587 -0.104136  0.179157 -0.066587  0.059860\n",
      "\n",
      "[515 rows x 6 columns]\n",
      "2021-10-04 00:00:00\n",
      "           instrument     score     label   score_0   score_1   score_2\n",
      "datetime                                                               \n",
      "2021-10-04       FFIV  0.201130 -1.105184  0.201130 -0.036765  0.041613\n",
      "2021-10-04        FLT  0.197968 -0.272097  0.197968 -0.032271  0.052572\n",
      "2021-10-04       TCOM  0.197585 -1.199243  0.197585 -0.019265  0.051440\n",
      "2021-10-04       ATVI  0.196771  0.554272  0.196771 -0.021890  0.061686\n",
      "2021-10-04        HIG  0.196331  0.950660  0.196331 -0.020751  0.050986\n",
      "...               ...       ...       ...       ...       ...       ...\n",
      "2021-10-04       DOCU -0.065144  1.709845  0.166501 -0.065144  0.061095\n",
      "2021-10-04         FB -0.065259  0.010078  0.165435 -0.065259  0.070172\n",
      "2021-10-04       IPGP -0.065976  0.225068  0.178067 -0.065976  0.057334\n",
      "2021-10-04       TWTR -0.067668  1.656097  0.173308 -0.067668  0.064793\n",
      "2021-10-04       ADSK -0.067962  0.379592  0.178269 -0.067962  0.059112\n",
      "\n",
      "[515 rows x 6 columns]\n",
      "2021-10-05 00:00:00\n",
      "           instrument     score     label   score_0   score_1   score_2\n",
      "datetime                                                               \n",
      "2021-10-05        SLG  0.205221 -0.789418  0.205221 -0.015112  0.044333\n",
      "2021-10-05        RCL  0.203262 -1.642660  0.203262 -0.008804  0.038451\n",
      "2021-10-05        FRT  0.202816 -0.755825  0.202816 -0.019437  0.046696\n",
      "2021-10-05        VNO  0.200697 -0.534117  0.200697 -0.014875  0.047661\n",
      "2021-10-05        AIV  0.199635 -0.426621  0.199635 -0.025746  0.047157\n",
      "...               ...       ...       ...       ...       ...       ...\n",
      "2021-10-05       MELI -0.040595 -0.641612  0.163647 -0.040595  0.054385\n",
      "2021-10-05       REGN -0.044997  0.117573  0.161444 -0.044997  0.043393\n",
      "2021-10-05        UHS -0.053055 -0.446777  0.173299 -0.053055  0.057239\n",
      "2021-10-05       EQIX -0.056404 -0.440058  0.167563 -0.056404  0.063591\n",
      "2021-10-05        HBI -0.059236  1.656097  0.164986 -0.059236  0.060780\n",
      "\n",
      "[515 rows x 6 columns]\n",
      "2021-10-06 00:00:00\n",
      "           instrument     score     label   score_0   score_1   score_2\n",
      "datetime                                                               \n",
      "2021-10-06        MRK  0.197693 -1.326893  0.197693 -0.007723  0.055755\n",
      "2021-10-06        RCL  0.196973 -1.038000  0.196973 -0.006100  0.050082\n",
      "2021-10-06         UA  0.196882 -1.609068  0.196882 -0.031394  0.039037\n",
      "2021-10-06        MGM  0.194942 -0.594582  0.194942  0.003079  0.044912\n",
      "2021-10-06       DISH  0.194654 -1.380641  0.194654 -0.001440  0.063956\n",
      "...               ...       ...       ...       ...       ...       ...\n",
      "2021-10-06       REGN -0.036847 -0.050388  0.165307 -0.036847  0.053580\n",
      "2021-10-06       SGEN -0.044571  0.184757  0.207899 -0.044571  0.041292\n",
      "2021-10-06       MELI -0.047911 -1.588913  0.161915 -0.047911  0.052622\n",
      "2021-10-06       MRNA -0.054745 -1.226117  0.162910 -0.054745  0.040098\n",
      "2021-10-06        HBI -0.063774 -1.716563  0.163917 -0.063774  0.058231\n",
      "\n",
      "[515 rows x 6 columns]\n",
      "2021-10-07 00:00:00\n",
      "           instrument     score     label   score_0   score_1   score_2\n",
      "datetime                                                               \n",
      "2021-10-07        LUV  0.197311 -1.696408  0.197311 -0.013233  0.052178\n",
      "2021-10-07      LBTYK  0.197088  1.407515  0.197088 -0.006025  0.044780\n",
      "2021-10-07        DAL  0.196582  0.211631  0.196582 -0.023922  0.054257\n",
      "2021-10-07        CMA  0.196401 -0.500524  0.196401  0.004412  0.045674\n",
      "2021-10-07        FMC  0.196387 -0.520680  0.196387 -0.025937  0.042782\n",
      "...               ...       ...       ...       ...       ...       ...\n",
      "2021-10-07       TTWO  0.149747 -1.293301  0.149747  0.007933  0.051194\n",
      "2021-10-07       NTES  0.148526  0.386311  0.148526  0.007747  0.054248\n",
      "2021-10-07        ICE  0.148363  0.265379  0.148363  0.011833  0.056200\n",
      "2021-10-07       PRGO -0.053278 -0.796136  0.195360 -0.053278  0.052506\n",
      "2021-10-07        AAL -0.058312  1.165650  0.189557 -0.058312  0.051940\n",
      "\n",
      "[515 rows x 6 columns]\n",
      "2021-10-08 00:00:00\n",
      "           instrument     score     label   score_0   score_1   score_2\n",
      "datetime                                                               \n",
      "2021-10-08       PAYC  0.211074  1.454544  0.211074 -0.017639  0.033000\n",
      "2021-10-08        ALK  0.208655 -0.010078  0.208655 -0.025913  0.038280\n",
      "2021-10-08        HWM  0.208481  0.003359  0.208481 -0.030733  0.039301\n",
      "2021-10-08        ESS  0.207770  1.306738  0.207770 -0.014424  0.038695\n",
      "2021-10-08        ARE  0.207097  1.394078  0.207097 -0.025316  0.042653\n",
      "...               ...       ...       ...       ...       ...       ...\n",
      "2021-10-08       NCLH -0.054976  1.689689  0.192938 -0.054976  0.039908\n",
      "2021-10-08        HBI -0.056505  0.796136  0.167059 -0.056505  0.047499\n",
      "2021-10-08        CCL -0.057276  1.562039  0.180562 -0.057276  0.049217\n",
      "2021-10-08        PNW -0.062281 -1.266427  0.167028 -0.062281  0.054084\n",
      "2021-10-08       CTXS -0.062714 -1.716563  0.166450 -0.062714  0.061308\n",
      "\n",
      "[515 rows x 6 columns]\n",
      "2021-10-11 00:00:00\n",
      "           instrument     score     label   score_0   score_1   score_2\n",
      "datetime                                                               \n",
      "2021-10-11        TXT  0.211817  0.137728  0.211817 -0.028120  0.030215\n",
      "2021-10-11       PBCT  0.210615 -1.326893  0.210615 -0.023781  0.034261\n",
      "2021-10-11       EXPE  0.210154 -0.970816  0.210154 -0.021648  0.032412\n",
      "2021-10-11      LBTYA  0.207029 -1.367204  0.207029 -0.016327  0.026758\n",
      "2021-10-11         IT  0.207027  1.447825  0.207027 -0.019160  0.037162\n",
      "...               ...       ...       ...       ...       ...       ...\n",
      "2021-10-11       MELI -0.058773  1.703126  0.160185 -0.058773  0.046170\n",
      "2021-10-11        TFX -0.062963  0.856602  0.171556 -0.062963  0.058691\n",
      "2021-10-11       TMUS -0.067324 -0.063825  0.166923 -0.067324  0.064048\n",
      "2021-10-11        GPS -0.067373 -0.997689  0.172738 -0.067373  0.056906\n",
      "2021-10-11      CMCSA -0.067851  0.614738  0.169130 -0.067851  0.062837\n",
      "\n",
      "[515 rows x 6 columns]\n",
      "2021-10-12 00:00:00\n",
      "           instrument     score     label   score_0   score_1   score_2\n",
      "datetime                                                               \n",
      "2021-10-12         PH  0.206091  1.239553  0.206091 -0.034339  0.043293\n",
      "2021-10-12        PDD  0.205312 -1.723282  0.205312 -0.034878  0.033935\n",
      "2021-10-12        IQV  0.203995  0.567709  0.203995 -0.030523  0.047571\n",
      "2021-10-12        BAX  0.203415 -0.292252  0.203415 -0.016018  0.049287\n",
      "2021-10-12        GLW  0.202960  0.621456  0.202960 -0.032983  0.044025\n",
      "...               ...       ...       ...       ...       ...       ...\n",
      "2021-10-12        MGM  0.146773 -1.158932  0.146773  0.014431  0.046171\n",
      "2021-10-12       MELI -0.038899 -1.306738  0.165206 -0.038899  0.035833\n",
      "2021-10-12       TMUS -0.052421  0.715515  0.170643 -0.052421  0.053474\n",
      "2021-10-12       CTXS -0.057809  0.043670  0.159088 -0.057809  0.052550\n",
      "2021-10-12       MCHP -0.059826  1.320175  0.169797 -0.059826  0.056488\n",
      "\n",
      "[515 rows x 6 columns]\n",
      "2021-10-13 00:00:00\n",
      "           instrument     score     label   score_0   score_1   score_2\n",
      "datetime                                                               \n",
      "2021-10-13       NTES  0.203697 -0.325845  0.203697 -0.006155  0.031530\n",
      "2021-10-13       NLSN  0.202318  0.225068  0.202318 -0.033442  0.047625\n",
      "2021-10-13        STZ  0.200585 -1.064874  0.200585 -0.012612  0.054690\n",
      "2021-10-13        DVN  0.199906  0.681922  0.199906  0.002651  0.044045\n",
      "2021-10-13         CF  0.199122 -1.676252  0.199122 -0.009549  0.050866\n",
      "...               ...       ...       ...       ...       ...       ...\n",
      "2021-10-13       WDAY  0.163977 -0.567709  0.163977 -0.004601  0.049567\n",
      "2021-10-13        MGM  0.160411 -1.353767  0.160411  0.005454  0.045903\n",
      "2021-10-13       ALGN  0.160363 -1.474699  0.160363 -0.065101  0.071168\n",
      "2021-10-13       SPLK  0.150787 -0.043670  0.150787  0.012051  0.052767\n",
      "2021-10-13         MU -0.046356 -0.648330  0.178516 -0.046356  0.046765\n",
      "\n",
      "[515 rows x 6 columns]\n",
      "2021-10-14 00:00:00\n",
      "           instrument     score     label   score_0   score_1   score_2\n",
      "datetime                                                               \n",
      "2021-10-14       NTES  0.205955  1.562039  0.205955 -0.005145  0.045248\n",
      "2021-10-14        HLT  0.201231 -0.339282  0.201231 -0.005346  0.048092\n",
      "2021-10-14         GM  0.199515 -1.588913  0.199515 -0.004818  0.049458\n",
      "2021-10-14       TTWO  0.196655  0.816291  0.196655 -0.014448  0.060039\n",
      "2021-10-14         CF  0.196606  1.662816  0.196606 -0.003865  0.055102\n",
      "...               ...       ...       ...       ...       ...       ...\n",
      "2021-10-14       MRNA  0.155539  1.642660  0.155539 -0.013045  0.038867\n",
      "2021-10-14       ASML  0.155368 -0.124291  0.155368  0.003452  0.064764\n",
      "2021-10-14        FCX  0.154849 -0.245223  0.154849 -0.002868  0.048833\n",
      "2021-10-14        APD  0.152381  0.016796  0.152381  0.010652  0.059869\n",
      "2021-10-14        WBA  0.147634 -1.118621  0.147634 -0.000131  0.046952\n",
      "\n",
      "[515 rows x 6 columns]\n",
      "2021-10-15 00:00:00\n",
      "           instrument     score     label   score_0   score_1   score_2\n",
      "datetime                                                               \n",
      "2021-10-15       WYNN  0.203386  0.386311  0.203386 -0.031165  0.042316\n",
      "2021-10-15       LUMN  0.202720  1.118621  0.202720 -0.026452  0.031553\n",
      "2021-10-15        PSX  0.202489  1.575476  0.202489 -0.022363  0.044869\n",
      "2021-10-15        MGM  0.202412 -1.609068  0.202412 -0.010245  0.041690\n",
      "2021-10-15        EOG  0.201290  0.473650  0.201290 -0.014176  0.044774\n",
      "...               ...       ...       ...       ...       ...       ...\n",
      "2021-10-15        HAL  0.154098 -0.419903  0.154098  0.016909  0.046951\n",
      "2021-10-15        FCX  0.150123  0.204913  0.150123  0.006375  0.050896\n",
      "2021-10-15       JBHT  0.142470  0.728951  0.142470  0.006497  0.048353\n",
      "2021-10-15       ALGN -0.048753 -0.964097  0.166539 -0.048753  0.043455\n",
      "2021-10-15        WRK -0.064379  0.419903  0.165158 -0.064379  0.063489\n",
      "\n",
      "[515 rows x 6 columns]\n",
      "2021-10-18 00:00:00\n",
      "           instrument     score     label   score_0   score_1   score_2\n",
      "datetime                                                               \n",
      "2021-10-18        SLG  0.204862  1.347049  0.204862 -0.013744  0.044193\n",
      "2021-10-18        KDP  0.204543 -0.513961  0.204543 -0.026338  0.053782\n",
      "2021-10-18        MET  0.202217  0.796136  0.202217 -0.004947  0.046654\n",
      "2021-10-18        CNP  0.201811  1.152214  0.201811 -0.018421  0.052889\n",
      "2021-10-18       WYNN  0.201704 -1.387359  0.201704 -0.016202  0.044452\n",
      "...               ...       ...       ...       ...       ...       ...\n",
      "2021-10-18        WFC  0.158342 -1.199243  0.158342  0.012940  0.051735\n",
      "2021-10-18       BIDU  0.157119  0.393029  0.157119  0.009407  0.056685\n",
      "2021-10-18        TGT  0.156458 -1.078311  0.156458  0.007136  0.057009\n",
      "2021-10-18        CDW  0.155730 -0.540835  0.155730 -0.008980  0.045872\n",
      "2021-10-18       TSLA  0.154628 -0.775981  0.154628  0.014314  0.049570\n",
      "\n",
      "[515 rows x 6 columns]\n",
      "2021-10-19 00:00:00\n",
      "           instrument     score  label   score_0   score_1   score_2\n",
      "datetime                                                            \n",
      "2021-10-19        AIV  0.206052    NaN  0.206052 -0.022962  0.044811\n",
      "2021-10-19        UDR  0.205751    NaN  0.205751 -0.017896  0.043939\n",
      "2021-10-19        HST  0.205449    NaN  0.205449 -0.023950  0.038291\n",
      "2021-10-19        KDP  0.203339    NaN  0.203339 -0.010308  0.054804\n",
      "2021-10-19        EQR  0.202379    NaN  0.202379 -0.014439  0.050218\n",
      "...               ...       ...    ...       ...       ...       ...\n",
      "2021-10-19       ADBE  0.161306    NaN  0.161306  0.003788  0.061072\n",
      "2021-10-19        WFC  0.161283    NaN  0.161283  0.014679  0.058564\n",
      "2021-10-19        STT  0.160461    NaN  0.160461  0.013769  0.052085\n",
      "2021-10-19       BIDU  0.150461    NaN  0.150461  0.016518  0.047132\n",
      "2021-10-19        CCL -0.060170    NaN  0.163719 -0.060170  0.059528\n",
      "\n",
      "[515 rows x 6 columns]\n",
      "2021-10-20 00:00:00\n",
      "           instrument     score  label   score_0   score_1   score_2\n",
      "datetime                                                            \n",
      "2021-10-20       INFO  0.206037    NaN  0.206037 -0.026051  0.042451\n",
      "2021-10-20       ABMD  0.203515    NaN  0.203515 -0.019323  0.050458\n",
      "2021-10-20        MGM  0.202137    NaN  0.202137 -0.020512  0.045137\n",
      "2021-10-20       MRNA  0.198866    NaN  0.198866 -0.012340  0.028270\n",
      "2021-10-20        LYV  0.198442    NaN  0.198442  0.003606  0.049772\n",
      "...               ...       ...    ...       ...       ...       ...\n",
      "2021-10-20        MTB  0.155778    NaN  0.155778  0.015663  0.049371\n",
      "2021-10-20        PNC  0.155432    NaN  0.155432  0.014801  0.055826\n",
      "2021-10-20        CNC  0.154099    NaN  0.154099  0.007837  0.052378\n",
      "2021-10-20       BIDU  0.150878    NaN  0.150878  0.009109  0.054016\n",
      "2021-10-20       ANTM  0.146545    NaN  0.146545  0.013685  0.049743\n",
      "\n",
      "[515 rows x 6 columns]\n"
     ]
    }
   ],
   "source": [
    "from IPython.display import clear_output\n",
    "import numpy as np\n",
    "indexs = reset_df.index.drop_duplicates()\n",
    "cnt = 0 \n",
    "\n",
    "for idx in indexs:\n",
    "    # cnt+=1\n",
    "    # if cnt < 800: continue\n",
    "    print(idx)\n",
    "    if type(reset_df.loc[idx]['score']) is np.float32:\n",
    "        stack = reset_df.loc[idx]\n",
    "    else:\n",
    "        stack = reset_df.loc[idx].sort_values(by='score' , ascending=False)\n",
    "    print(stack)\n",
    "    stack.to_csv('/home/results_basic/'+str(idx)+'.csv', sep=',', na_rep='NaN')\n",
    "    # input()\n",
    "    # clear_output()"
   ]
  },
  {
   "cell_type": "code",
   "execution_count": 13,
   "id": "1aa3252f-910e-4e62-ba9b-6ab84889b2db",
   "metadata": {},
   "outputs": [],
   "source": [
    "reset_df.to_pickle(path=\"/home/reset_df_basic.pkl\")"
   ]
  },
  {
   "cell_type": "code",
   "execution_count": null,
   "id": "8468a750-ce16-443d-b52e-96477958262e",
   "metadata": {},
   "outputs": [],
   "source": []
  },
  {
   "cell_type": "code",
   "execution_count": null,
   "id": "23dd0a78-1208-40d0-80aa-6455630ca300",
   "metadata": {},
   "outputs": [],
   "source": []
  }
 ],
 "metadata": {
  "kernelspec": {
   "display_name": "Python 3 (ipykernel)",
   "language": "python",
   "name": "python3"
  },
  "language_info": {
   "codemirror_mode": {
    "name": "ipython",
    "version": 3
   },
   "file_extension": ".py",
   "mimetype": "text/x-python",
   "name": "python",
   "nbconvert_exporter": "python",
   "pygments_lexer": "ipython3",
   "version": "3.8.10"
  }
 },
 "nbformat": 4,
 "nbformat_minor": 5
}
