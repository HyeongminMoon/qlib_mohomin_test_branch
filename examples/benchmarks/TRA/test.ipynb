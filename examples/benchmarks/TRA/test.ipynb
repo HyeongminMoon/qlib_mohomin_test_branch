{
 "cells": [
  {
   "cell_type": "code",
   "execution_count": 1,
   "id": "5b412531-c672-4e05-9e62-2fadea8797ca",
   "metadata": {},
   "outputs": [],
   "source": [
    "import argparse\n",
    "import qlib\n",
    "import ruamel.yaml as yaml\n",
    "from qlib.utils import init_instance_by_config\n",
    "import pandas as pd\n",
    "import torch\n",
    "from qlib.contrib.evaluate import (\n",
    "    backtest as normal_backtest,\n",
    "    risk_analysis,\n",
    ")"
   ]
  },
  {
   "cell_type": "code",
   "execution_count": 2,
   "id": "7a2b98d4-3742-4d1d-9e31-3a217116b520",
   "metadata": {
    "scrolled": true,
    "tags": []
   },
   "outputs": [
    {
     "name": "stderr",
     "output_type": "stream",
     "text": [
      "[3453:MainThread](2021-10-30 00:05:03,354) INFO - qlib.Initialization - [config.py:386] - default_conf: client.\n",
      "[3453:MainThread](2021-10-30 00:05:03,356) WARNING - qlib.Initialization - [config.py:411] - redis connection failed(host=127.0.0.1 port=6379), DiskExpressionCache and DiskDatasetCache will not be used!\n",
      "[3453:MainThread](2021-10-30 00:05:03,545) INFO - qlib.Initialization - [__init__.py:56] - qlib successfully initialized based on client settings.\n",
      "[3453:MainThread](2021-10-30 00:05:03,546) INFO - qlib.Initialization - [__init__.py:58] - data_path={'__DEFAULT_FREQ': PosixPath('/home/us_data')}\n"
     ]
    }
   ],
   "source": [
    "parser = argparse.ArgumentParser(allow_abbrev=False)\n",
    "parser.add_argument(\"--seed\", type=int, default=1000, help=\"random seed\")\n",
    "parser.add_argument(\"--config_file\", type=str, default=\"backtest.yaml\", help=\"config file\")\n",
    "parser.add_argument(\"-f\")\n",
    "args = parser.parse_args()\n",
    "\n",
    "\n",
    "seed = args.seed\n",
    "config_file = args.config_file\n",
    "\n",
    "# set random seed\n",
    "with open(config_file) as f:\n",
    "    config = yaml.safe_load(f)\n",
    "\n",
    "# seed_suffix = \"/seed1000\" if \"init\" in config_file else f\"/seed{seed}\"\n",
    "seed_suffix = \"\"\n",
    "config[\"task\"][\"model\"][\"kwargs\"].update(\n",
    "    {\"seed\": seed, \"logdir\": config[\"task\"][\"model\"][\"kwargs\"][\"logdir\"] + seed_suffix}\n",
    ")\n",
    "\n",
    "# initialize workflow\n",
    "qlib.init(\n",
    "    provider_uri=config[\"qlib_init\"][\"provider_uri\"],\n",
    "    region=config[\"qlib_init\"][\"region\"],\n",
    ")"
   ]
  },
  {
   "cell_type": "code",
   "execution_count": 3,
   "id": "b9d5119b-e8ca-4285-9a32-bbd4d892b91a",
   "metadata": {},
   "outputs": [
    {
     "name": "stderr",
     "output_type": "stream",
     "text": [
      "/usr/local/lib/python3.8/dist-packages/torch/cuda/__init__.py:52: UserWarning: CUDA initialization: Found no NVIDIA driver on your system. Please check that you have an NVIDIA GPU and installed a driver from http://www.nvidia.com/Download/index.aspx (Triggered internally at  /pytorch/c10/cuda/CUDAFunctions.cpp:100.)\n",
      "  return torch._C._cuda_getDeviceCount() > 0\n",
      "[3453:MainThread](2021-10-30 00:08:20,267) INFO - qlib.timer - [log.py:113] - Time cost: 196.705s | Loading data Done\n",
      "[3453:MainThread](2021-10-30 00:08:22,577) INFO - qlib.timer - [log.py:113] - Time cost: 1.943s | FilterCol Done\n",
      "/usr/local/lib/python3.8/dist-packages/pandas/core/frame.py:3065: SettingWithCopyWarning: \n",
      "A value is trying to be set on a copy of a slice from a DataFrame.\n",
      "Try using .loc[row_indexer,col_indexer] = value instead\n",
      "\n",
      "See the caveats in the documentation: https://pandas.pydata.org/pandas-docs/stable/user_guide/indexing.html#returning-a-view-versus-a-copy\n",
      "  self[k1] = value[k2]\n",
      "/usr/local/lib/python3.8/dist-packages/pandas/core/generic.py:7349: SettingWithCopyWarning: \n",
      "A value is trying to be set on a copy of a slice from a DataFrame\n",
      "\n",
      "See the caveats in the documentation: https://pandas.pydata.org/pandas-docs/stable/user_guide/indexing.html#returning-a-view-versus-a-copy\n",
      "  return self._clip_with_scalar(lower, upper, inplace=inplace)\n",
      "[3453:MainThread](2021-10-30 00:08:27,469) INFO - qlib.timer - [log.py:113] - Time cost: 4.891s | RobustZScoreNorm Done\n",
      "[3453:MainThread](2021-10-30 00:08:27,510) INFO - qlib.timer - [log.py:113] - Time cost: 0.039s | Fillna Done\n",
      "[3453:MainThread](2021-10-30 00:08:28,532) INFO - qlib.timer - [log.py:113] - Time cost: 0.969s | CSRankNorm Done\n",
      "[3453:MainThread](2021-10-30 00:08:28,533) INFO - qlib.timer - [log.py:113] - Time cost: 8.264s | fit & process data Done\n",
      "[3453:MainThread](2021-10-30 00:08:28,535) INFO - qlib.timer - [log.py:113] - Time cost: 204.974s | Init data Done\n"
     ]
    }
   ],
   "source": [
    "latest_dataset = init_instance_by_config(config[\"task\"][\"dataset\"])"
   ]
  },
  {
   "cell_type": "code",
   "execution_count": 4,
   "id": "d86f0448-49e7-4688-b577-9a4585442179",
   "metadata": {},
   "outputs": [
    {
     "name": "stdout",
     "output_type": "stream",
     "text": [
      "Please install necessary libs for CatBoostModel.\n",
      "Please install necessary libs for XGBModel, such as xgboost.\n"
     ]
    },
    {
     "name": "stderr",
     "output_type": "stream",
     "text": [
      "[3453:MainThread](2021-10-30 00:08:39,579) WARNING - qlib.TRA - [pytorch_tra.py:100] - `eval_train` will be ignored when using TRA.router\n",
      "[3453:MainThread](2021-10-30 00:08:39,581) WARNING - qlib.TRA - [pytorch_tra.py:132] - logdir output/us_158_nassp_epoch100 is not empty\n",
      "[3453:MainThread](2021-10-30 00:08:39,583) INFO - qlib.TRA - [pytorch_tra.py:141] - init TRAModel...\n",
      "[3453:MainThread](2021-10-30 00:08:39,587) INFO - qlib.TRA - [pytorch_tra.py:171] - # model params: 59520\n",
      "[3453:MainThread](2021-10-30 00:08:39,588) INFO - qlib.TRA - [pytorch_tra.py:172] - # tra params: 5606\n"
     ]
    },
    {
     "name": "stdout",
     "output_type": "stream",
     "text": [
      "RNN(\n",
      "  (rnn): LSTM(20, 64, num_layers=2, batch_first=True)\n",
      "  (W): Linear(in_features=64, out_features=64, bias=True)\n",
      "  (u): Linear(in_features=64, out_features=1, bias=False)\n",
      ")\n",
      "TRA(\n",
      "  (predictors): Linear(in_features=128, out_features=3, bias=True)\n",
      "  (router): LSTM(3, 32, batch_first=True)\n",
      "  (fc): Linear(in_features=160, out_features=3, bias=True)\n",
      ")\n"
     ]
    }
   ],
   "source": [
    "model = init_instance_by_config(config[\"task\"][\"model\"])"
   ]
  },
  {
   "cell_type": "code",
   "execution_count": 5,
   "id": "a2b604d1-ba38-4392-97cf-4383ce4e5e74",
   "metadata": {},
   "outputs": [],
   "source": [
    "state_dict = torch.load(\"/home/qlib_test/examples/benchmarks/TRA/output/us_158_nassp_epoch100/model.bin\", map_location=\"cpu\")[\"model\"]"
   ]
  },
  {
   "cell_type": "code",
   "execution_count": 6,
   "id": "2e0e936a-358c-438b-85f5-f94ef25ca172",
   "metadata": {},
   "outputs": [
    {
     "data": {
      "text/plain": [
       "<All keys matched successfully>"
      ]
     },
     "execution_count": 6,
     "metadata": {},
     "output_type": "execute_result"
    }
   ],
   "source": [
    "model.model.load_state_dict(state_dict)"
   ]
  },
  {
   "cell_type": "code",
   "execution_count": 7,
   "id": "f7f25b9a-2357-4130-8109-520fa93ecfcb",
   "metadata": {},
   "outputs": [],
   "source": [
    "model.fitted = True"
   ]
  },
  {
   "cell_type": "code",
   "execution_count": 12,
   "id": "25a3d41c-d31d-4d58-bdcf-f41b37d93e79",
   "metadata": {},
   "outputs": [
    {
     "name": "stderr",
     "output_type": "stream",
     "text": [
      "100%|████████████████████████████████████████████████████| 1405/1405 [03:25<00:00,  6.84it/s]\n",
      "[3453:MainThread](2021-10-30 00:23:30,929) INFO - qlib.TRA - [pytorch_tra.py:516] - test metrics: {'MSE': 0.16716719063699798, 'MAE': 0.3333444516749473, 'IC': -0.002645107436722937, 'ICIR': -0.023146544596854512}\n"
     ]
    }
   ],
   "source": [
    "pred = model.predict(latest_dataset)\n",
    "reset_df = pred.reset_index('instrument')"
   ]
  },
  {
   "cell_type": "code",
   "execution_count": 13,
   "id": "07116bc5-1e08-40cf-93d8-049097b0be70",
   "metadata": {},
   "outputs": [
    {
     "name": "stderr",
     "output_type": "stream",
     "text": [
      "[3453:MainThread](2021-10-30 00:23:30,979) INFO - qlib.Initialization - [config.py:386] - default_conf: client.\n",
      "[3453:MainThread](2021-10-30 00:23:30,981) WARNING - qlib.Initialization - [config.py:411] - redis connection failed(host=127.0.0.1 port=6379), DiskExpressionCache and DiskDatasetCache will not be used!\n",
      "[3453:MainThread](2021-10-30 00:23:30,983) INFO - qlib.Initialization - [__init__.py:56] - qlib successfully initialized based on client settings.\n",
      "[3453:MainThread](2021-10-30 00:23:30,985) INFO - qlib.Initialization - [__init__.py:58] - data_path={'__DEFAULT_FREQ': PosixPath('/home/us_data')}\n"
     ]
    }
   ],
   "source": [
    "import qlib\n",
    "from qlib.data import D\n",
    "qlib.init(provider_uri=\"/home/us_data\", region=\"us\")\n",
    "\n",
    "d_instruments = D.instruments(\"nassp\")"
   ]
  },
  {
   "cell_type": "code",
   "execution_count": 18,
   "id": "8ed221d6-b85f-453e-8e05-ba9dacefad34",
   "metadata": {},
   "outputs": [],
   "source": [
    "df = D.features(d_instruments, [\"$open\",\"$factor\"], freq=\"day\")"
   ]
  },
  {
   "cell_type": "code",
   "execution_count": 197,
   "id": "c0bd94f5-5d0e-428b-b3da-c02eda1485be",
   "metadata": {},
   "outputs": [],
   "source": [
    "import time\n",
    "import numpy as np\n",
    "\n",
    "def backtest(top_k, max_buying, fee, p=False, early_stop=True, money=1000.0):\n",
    "    st = time.time()\n",
    "    indexs = reset_df.index.drop_duplicates()\n",
    "    cnt = 0 \n",
    "    # money = 100\n",
    "    current_buying = {}\n",
    "    num_buy = 0\n",
    "    loss_cut = 0.95\n",
    "    my_stack = None\n",
    "\n",
    "    for idx in indexs:\n",
    "        cnt+=1\n",
    "        today_buy_list = []\n",
    "        today_sell_list = []\n",
    "        today_earn = 0\n",
    "        \n",
    "        try:\n",
    "            if p:\n",
    "                print(\"---------------------------------\")\n",
    "                print(\"day \", cnt, idx)\n",
    "                print(\"---------------------------------\")\n",
    "                \n",
    "            ## predict today score\n",
    "            if type(reset_df.loc[idx]['score']) is np.float32:\n",
    "                stack = reset_df.loc[idx]\n",
    "            else:\n",
    "                stack = reset_df.loc[idx].sort_values(by='score' , ascending=True)\n",
    "                # stack = stack[stack['score'] < -0.17]\n",
    "            \n",
    "            ## update current stocks' prices, money\n",
    "            # print(\"money, can_buy_money:\", money, can_buy_money)\n",
    "            can_buy_money = money\n",
    "            current_buying_list = list(current_buying.keys())\n",
    "            for cur_stock in current_buying_list:\n",
    "                today_stock_price = df.loc[cur_stock,idx][0] / df.loc[cur_stock,idx][1]\n",
    "                today_stock_price = today_stock_price.round(2)\n",
    "                current_buying[cur_stock][2] = today_stock_price.round(2)\n",
    "                current_buying[cur_stock][4] = (current_buying[cur_stock][3] * today_stock_price).round(2)\n",
    "                ### update current total money\n",
    "                if not np.isnan(current_buying[cur_stock][4]):\n",
    "                    can_buy_money += current_buying[cur_stock][4].round(2)\n",
    "            # print(\"money, can_buy_money:\", money, can_buy_money)\n",
    "            \n",
    "            if p:\n",
    "                print(\"current stocks: \", current_buying)\n",
    "                \n",
    "            ## sorting current stocks' score\n",
    "            my_stack = stack[stack['instrument'].isin(current_buying_list)]\n",
    "            my_stack = my_stack.sort_values(by='score' , ascending=True)\n",
    "            my_stack_list = list(my_stack['instrument'])\n",
    "            \n",
    "            # print(\"current stocks' score:\", my_stack_list)\n",
    "            \n",
    "            ## select buy_list and sell_list\n",
    "            today_buy_cnt = 0\n",
    "            for x in stack['instrument']:\n",
    "                if today_buy_cnt >= top_k:\n",
    "                    break\n",
    "                cur_stock = x\n",
    "                \n",
    "                if cur_stock in my_stack_list:\n",
    "                    # today_buy_list.append(cur_stock)\n",
    "                    # today_sell_list.append(cur_stock)\n",
    "                    today_buy_cnt+=1\n",
    "                    if not np.isnan(current_buying[cur_stock][4]):\n",
    "                        can_buy_money -= current_buying[cur_stock][4].round(2)\n",
    "                    continue\n",
    "                \n",
    "                ### assert we can buy this stock\n",
    "                today_stock_price = df.loc[cur_stock,idx][0] / df.loc[cur_stock,idx][1]\n",
    "                today_stock_price = today_stock_price.round(2)\n",
    "                if today_stock_price > can_buy_money / (max_buying - today_buy_cnt):\n",
    "                    continue\n",
    "                ### assert price is not nan\n",
    "                if np.isnan(today_stock_price):\n",
    "                    continue\n",
    "                \n",
    "                ### sell\n",
    "                if num_buy >= max_buying:\n",
    "                    last_stock = my_stack_list[-1]\n",
    "                    num_last_stock = current_buying[last_stock][0]\n",
    "\n",
    "                    num_buy -= 1\n",
    "                    today_sell_list.append(last_stock)\n",
    "                    if num_last_stock == 1:\n",
    "                        earn = current_buying[last_stock][4]\n",
    "                        del current_buying[last_stock]\n",
    "                        my_stack_list = my_stack_list[:-1]\n",
    "                    else:\n",
    "                        current_buying[last_stock][0] -= 1\n",
    "                        current_buying[last_stock][3] -= sell_total\n",
    "                        current_buying[last_stock][4] -= sell_total*end\n",
    "                        earn = sell_total*end\n",
    "                    if not np.isnan(earn):\n",
    "                        money += earn.round(2)*(1.0-fee)\n",
    "\n",
    "                ### buy\n",
    "                total = 1\n",
    "                while(1):\n",
    "                    total_price = (total+1)*today_stock_price\n",
    "                    if total_price < can_buy_money / (max_buying - today_buy_cnt):\n",
    "                        total+=1\n",
    "                    else:\n",
    "                        break\n",
    "                total_price = total*today_stock_price\n",
    "                total_price = total_price.round(2)\n",
    "                \n",
    "                num_buy+=1\n",
    "                today_buy_cnt += 1\n",
    "                today_buy_list.append(cur_stock)\n",
    "                if cur_stock not in current_buying:\n",
    "                    current_buying[x] = [1, today_stock_price, today_stock_price, total, total_price] #num, start_price, current_price, total, total_price\n",
    "                else:\n",
    "                    current_buying[x][0] += 1\n",
    "                    current_buying[x][3] += total\n",
    "                    current_buying[x][4] += total_price\n",
    "                if not np.isnan(total_price):\n",
    "                    money -= total_price.round(2)*(1.0+fee)\n",
    "                    can_buy_money -= total_price.round(2)*(1.0+fee)\n",
    "            if p:\n",
    "                print(\"buy: \", today_buy_list)\n",
    "                print(\"sell: \", today_sell_list)\n",
    "            # print(\"current stocks: \", current_buying)\n",
    "            \n",
    "            ## caluate current_money\n",
    "            current_money = money\n",
    "            for c in current_buying:\n",
    "                total_price = current_buying[c][4]\n",
    "                current_money += total_price\n",
    "            # if money<0:\n",
    "                # print(\"?\")\n",
    "            if p:\n",
    "                print(\"current stocks: \", len(current_buying), current_buying)\n",
    "                print(\"current usable money: \", money)\n",
    "                print(\"current money: \", current_money)\n",
    "        except Exception as e:\n",
    "            print(e)\n",
    "            if early_stop and cnt >= 800:\n",
    "                print(\"---------------------------------\")\n",
    "                print(\"config: \", top_k, max_buying)\n",
    "                print(\"day \", cnt, idx)\n",
    "                print(\"current stocks: \", len(current_buying), current_buying)\n",
    "                print(\"current money: \", current_money)\n",
    "                print(\"time:\", time.time() - st)\n",
    "                break\n",
    "            continue\n",
    "        if early_stop and cnt >= 800:\n",
    "            print(\"---------------------------------\")\n",
    "            print(\"config: \", top_k, max_buying)\n",
    "            print(\"day \", cnt, idx)\n",
    "            print(\"current stocks: \", len(current_buying), current_buying)\n",
    "            print(\"current usable money: \", money)\n",
    "            print(\"current money: \", current_money)\n",
    "            print(\"time:\", time.time() - st)\n",
    "            break\n",
    "    return current_money"
   ]
  },
  {
   "cell_type": "code",
   "execution_count": 198,
   "id": "a0e28264-c0ec-46eb-ac27-0768cbb3f7ef",
   "metadata": {
    "tags": []
   },
   "outputs": [
    {
     "name": "stdout",
     "output_type": "stream",
     "text": [
      "---------------------------------\n",
      "config:  1 1\n",
      "day  800 2018-03-07 00:00:00\n",
      "current stocks:  1 {'CSRA': [1, 40.65, 40.61, 182, 7391.02]}\n",
      "current usable money:  -0.5671969998966233\n",
      "current money:  7390.452803000104\n",
      "time: 4.292951822280884\n"
     ]
    },
    {
     "data": {
      "text/plain": [
       "7390.452803000104"
      ]
     },
     "execution_count": 198,
     "metadata": {},
     "output_type": "execute_result"
    }
   ],
   "source": [
    "# for a in range(1,7):\n",
    "    # backtest(a, a, 0.0007, p=False, money=1000.0)\n",
    "backtest(1, 1, 0.0007, p=False, money=1000.0)\n",
    "# backtest(2, 2, 0.0007, p=False, money=1000.0)"
   ]
  },
  {
   "cell_type": "code",
   "execution_count": 65,
   "id": "3852150c-1132-4f41-a286-ff9bebdddb94",
   "metadata": {},
   "outputs": [
    {
     "name": "stdout",
     "output_type": "stream",
     "text": [
      "---------------------------------\n",
      "config:  5 5\n",
      "day  800 2018-03-07 00:00:00\n",
      "5 {'CSRA': [2, 40.55, 40.609997], 'PXD': [1, 168.4, 168.4], 'NOC': [1, 337.98996, 337.98996], 'HAS': [1, 95.45, 95.45]}\n",
      "current money:  21908.450890992786\n",
      "time: 5.150775194168091\n"
     ]
    },
    {
     "data": {
      "text/plain": [
       "21908.450890992786"
      ]
     },
     "execution_count": 65,
     "metadata": {},
     "output_type": "execute_result"
    }
   ],
   "source": [
    "backtest(5, 5, 0.0007, p=False, money=3000)"
   ]
  },
  {
   "cell_type": "code",
   "execution_count": 66,
   "id": "74172cc1-d928-49e8-ab25-f1dc0b207b89",
   "metadata": {},
   "outputs": [
    {
     "name": "stdout",
     "output_type": "stream",
     "text": [
      "---------------------------------\n",
      "config:  5 5\n",
      "day  800 2018-03-07 00:00:00\n",
      "5 {'CSRA': [2, 40.55, 40.609997], 'PXD': [1, 168.4, 168.4], 'NOC': [1, 337.98996, 337.98996], 'HAS': [1, 95.45, 95.45]}\n",
      "current money:  14354.32257563268\n",
      "time: 5.206586599349976\n"
     ]
    },
    {
     "data": {
      "text/plain": [
       "14354.32257563268"
      ]
     },
     "execution_count": 66,
     "metadata": {},
     "output_type": "execute_result"
    }
   ],
   "source": [
    "backtest(5, 5, 0.0007, p=False, money=2000)"
   ]
  },
  {
   "cell_type": "code",
   "execution_count": null,
   "id": "e942f161-27c3-4703-8380-4bc102a061ff",
   "metadata": {},
   "outputs": [],
   "source": []
  }
 ],
 "metadata": {
  "kernelspec": {
   "display_name": "Python 3 (ipykernel)",
   "language": "python",
   "name": "python3"
  },
  "language_info": {
   "codemirror_mode": {
    "name": "ipython",
    "version": 3
   },
   "file_extension": ".py",
   "mimetype": "text/x-python",
   "name": "python",
   "nbconvert_exporter": "python",
   "pygments_lexer": "ipython3",
   "version": "3.8.10"
  }
 },
 "nbformat": 4,
 "nbformat_minor": 5
}
