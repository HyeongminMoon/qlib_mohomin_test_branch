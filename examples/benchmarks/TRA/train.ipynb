{
 "cells": [
  {
   "cell_type": "code",
   "execution_count": 1,
   "id": "7b3b68cb-a15f-4694-bc87-1ccdfd5d2836",
   "metadata": {},
   "outputs": [],
   "source": [
    "import argparse\n",
    "import qlib\n",
    "import ruamel.yaml as yaml\n",
    "from qlib.utils import init_instance_by_config\n",
    "import pandas as pd\n",
    "import torch"
   ]
  },
  {
   "cell_type": "code",
   "execution_count": 2,
   "id": "0e4e5195-26b0-4a01-8eaf-9a725f5e8191",
   "metadata": {},
   "outputs": [
    {
     "name": "stderr",
     "output_type": "stream",
     "text": [
      "[640:MainThread](2021-10-22 00:33:10,975) INFO - qlib.Initialization - [config.py:386] - default_conf: client.\n",
      "[640:MainThread](2021-10-22 00:33:10,979) WARNING - qlib.Initialization - [config.py:411] - redis connection failed(host=127.0.0.1 port=6379), DiskExpressionCache and DiskDatasetCache will not be used!\n",
      "[640:MainThread](2021-10-22 00:33:11,433) INFO - qlib.Initialization - [__init__.py:56] - qlib successfully initialized based on client settings.\n",
      "[640:MainThread](2021-10-22 00:33:11,434) INFO - qlib.Initialization - [__init__.py:58] - data_path={'__DEFAULT_FREQ': PosixPath('/home/us_data')}\n"
     ]
    }
   ],
   "source": [
    "parser = argparse.ArgumentParser(allow_abbrev=False)\n",
    "parser.add_argument(\"--seed\", type=int, default=1000, help=\"random seed\")\n",
    "parser.add_argument(\"--config_file\", type=str, default=\"us360_nassp_epoch100.yaml\", help=\"config file\")\n",
    "parser.add_argument(\"-f\")\n",
    "args = parser.parse_args()\n",
    "\n",
    "seed = args.seed\n",
    "config_file = args.config_file\n",
    "\n",
    "with open(config_file) as f:\n",
    "    config = yaml.safe_load(f)\n",
    "\n",
    "# seed_suffix = \"/seed1000\" if \"init\" in config_file else f\"/seed{seed}\"\n",
    "seed_suffix = \"\"\n",
    "config[\"task\"][\"model\"][\"kwargs\"].update(\n",
    "    {\"seed\": seed, \"logdir\": config[\"task\"][\"model\"][\"kwargs\"][\"logdir\"] + seed_suffix}\n",
    ")\n",
    "\n",
    "# initialize workflow\n",
    "qlib.init(\n",
    "    provider_uri=config[\"qlib_init\"][\"provider_uri\"],\n",
    "    region=config[\"qlib_init\"][\"region\"],\n",
    ")"
   ]
  },
  {
   "cell_type": "code",
   "execution_count": 1,
   "id": "50a9dbd7-c219-4aba-b683-277230c41072",
   "metadata": {},
   "outputs": [
    {
     "ename": "NameError",
     "evalue": "name 'init_instance_by_config' is not defined",
     "output_type": "error",
     "traceback": [
      "\u001b[0;31m---------------------------------------------------------------------------\u001b[0m",
      "\u001b[0;31mNameError\u001b[0m                                 Traceback (most recent call last)",
      "\u001b[0;32m/tmp/ipykernel_756/1730346077.py\u001b[0m in \u001b[0;36m<module>\u001b[0;34m\u001b[0m\n\u001b[0;32m----> 1\u001b[0;31m \u001b[0mdataset\u001b[0m \u001b[0;34m=\u001b[0m \u001b[0minit_instance_by_config\u001b[0m\u001b[0;34m(\u001b[0m\u001b[0mconfig\u001b[0m\u001b[0;34m[\u001b[0m\u001b[0;34m\"task\"\u001b[0m\u001b[0;34m]\u001b[0m\u001b[0;34m[\u001b[0m\u001b[0;34m\"dataset\"\u001b[0m\u001b[0;34m]\u001b[0m\u001b[0;34m)\u001b[0m\u001b[0;34m\u001b[0m\u001b[0;34m\u001b[0m\u001b[0m\n\u001b[0m",
      "\u001b[0;31mNameError\u001b[0m: name 'init_instance_by_config' is not defined"
     ]
    }
   ],
   "source": [
    "dataset = init_instance_by_config(config[\"task\"][\"dataset\"])"
   ]
  },
  {
   "cell_type": "code",
   "execution_count": null,
   "id": "997728fd-575d-4166-a662-17222b127816",
   "metadata": {},
   "outputs": [],
   "source": [
    "model = init_instance_by_config(config[\"task\"][\"model\"])"
   ]
  },
  {
   "cell_type": "code",
   "execution_count": null,
   "id": "51e09845-3235-4dba-8e31-b1caa684ced4",
   "metadata": {},
   "outputs": [],
   "source": [
    "# train model\n",
    "model.fit(dataset)"
   ]
  },
  {
   "cell_type": "code",
   "execution_count": null,
   "id": "9087bc66-9be4-4a36-9a42-7245230f3d4a",
   "metadata": {},
   "outputs": [],
   "source": []
  }
 ],
 "metadata": {
  "kernelspec": {
   "display_name": "Python 3 (ipykernel)",
   "language": "python",
   "name": "python3"
  },
  "language_info": {
   "codemirror_mode": {
    "name": "ipython",
    "version": 3
   },
   "file_extension": ".py",
   "mimetype": "text/x-python",
   "name": "python",
   "nbconvert_exporter": "python",
   "pygments_lexer": "ipython3",
   "version": "3.8.10"
  }
 },
 "nbformat": 4,
 "nbformat_minor": 5
}
